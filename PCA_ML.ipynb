{
  "nbformat": 4,
  "nbformat_minor": 0,
  "metadata": {
    "colab": {
      "provenance": []
    },
    "kernelspec": {
      "name": "python3",
      "display_name": "Python 3"
    },
    "language_info": {
      "name": "python"
    }
  },
  "cells": [
    {
      "cell_type": "code",
      "execution_count": null,
      "metadata": {
        "colab": {
          "base_uri": "https://localhost:8080/",
          "height": 506
        },
        "id": "y95OwxCCk5F1",
        "outputId": "cb0f8e42-0bd1-4f3e-a2ff-8cc115770f91"
      },
      "outputs": [
        {
          "output_type": "display_data",
          "data": {
            "text/html": [
              "        <script type=\"text/javascript\">\n",
              "        window.PlotlyConfig = {MathJaxConfig: 'local'};\n",
              "        if (window.MathJax) {MathJax.Hub.Config({SVG: {font: \"STIX-Web\"}});}\n",
              "        if (typeof require !== 'undefined') {\n",
              "        require.undef(\"plotly\");\n",
              "        requirejs.config({\n",
              "            paths: {\n",
              "                'plotly': ['https://cdn.plot.ly/plotly-2.8.3.min']\n",
              "            }\n",
              "        });\n",
              "        require(['plotly'], function(Plotly) {\n",
              "            window._Plotly = Plotly;\n",
              "        });\n",
              "        }\n",
              "        </script>\n",
              "        "
            ]
          },
          "metadata": {}
        },
        {
          "output_type": "stream",
          "name": "stdout",
          "text": [
            "Drive already mounted at /content/drive; to attempt to forcibly remount, call drive.mount(\"/content/drive\", force_remount=True).\n"
          ]
        },
        {
          "output_type": "execute_result",
          "data": {
            "text/plain": [
              "       label  pixel0  pixel1  pixel2  pixel3  pixel4  pixel5  pixel6  pixel7  \\\n",
              "0          1       0       0       0       0       0       0       0       0   \n",
              "1          0       0       0       0       0       0       0       0       0   \n",
              "2          1       0       0       0       0       0       0       0       0   \n",
              "3          4       0       0       0       0       0       0       0       0   \n",
              "4          0       0       0       0       0       0       0       0       0   \n",
              "...      ...     ...     ...     ...     ...     ...     ...     ...     ...   \n",
              "41995      0       0       0       0       0       0       0       0       0   \n",
              "41996      1       0       0       0       0       0       0       0       0   \n",
              "41997      7       0       0       0       0       0       0       0       0   \n",
              "41998      6       0       0       0       0       0       0       0       0   \n",
              "41999      9       0       0       0       0       0       0       0       0   \n",
              "\n",
              "       pixel8  ...  pixel774  pixel775  pixel776  pixel777  pixel778  \\\n",
              "0           0  ...         0         0         0         0         0   \n",
              "1           0  ...         0         0         0         0         0   \n",
              "2           0  ...         0         0         0         0         0   \n",
              "3           0  ...         0         0         0         0         0   \n",
              "4           0  ...         0         0         0         0         0   \n",
              "...       ...  ...       ...       ...       ...       ...       ...   \n",
              "41995       0  ...         0         0         0         0         0   \n",
              "41996       0  ...         0         0         0         0         0   \n",
              "41997       0  ...         0         0         0         0         0   \n",
              "41998       0  ...         0         0         0         0         0   \n",
              "41999       0  ...         0         0         0         0         0   \n",
              "\n",
              "       pixel779  pixel780  pixel781  pixel782  pixel783  \n",
              "0             0         0         0         0         0  \n",
              "1             0         0         0         0         0  \n",
              "2             0         0         0         0         0  \n",
              "3             0         0         0         0         0  \n",
              "4             0         0         0         0         0  \n",
              "...         ...       ...       ...       ...       ...  \n",
              "41995         0         0         0         0         0  \n",
              "41996         0         0         0         0         0  \n",
              "41997         0         0         0         0         0  \n",
              "41998         0         0         0         0         0  \n",
              "41999         0         0         0         0         0  \n",
              "\n",
              "[42000 rows x 785 columns]"
            ],
            "text/html": [
              "\n",
              "  <div id=\"df-370c2e10-df87-4858-94cb-401862566c6b\">\n",
              "    <div class=\"colab-df-container\">\n",
              "      <div>\n",
              "<style scoped>\n",
              "    .dataframe tbody tr th:only-of-type {\n",
              "        vertical-align: middle;\n",
              "    }\n",
              "\n",
              "    .dataframe tbody tr th {\n",
              "        vertical-align: top;\n",
              "    }\n",
              "\n",
              "    .dataframe thead th {\n",
              "        text-align: right;\n",
              "    }\n",
              "</style>\n",
              "<table border=\"1\" class=\"dataframe\">\n",
              "  <thead>\n",
              "    <tr style=\"text-align: right;\">\n",
              "      <th></th>\n",
              "      <th>label</th>\n",
              "      <th>pixel0</th>\n",
              "      <th>pixel1</th>\n",
              "      <th>pixel2</th>\n",
              "      <th>pixel3</th>\n",
              "      <th>pixel4</th>\n",
              "      <th>pixel5</th>\n",
              "      <th>pixel6</th>\n",
              "      <th>pixel7</th>\n",
              "      <th>pixel8</th>\n",
              "      <th>...</th>\n",
              "      <th>pixel774</th>\n",
              "      <th>pixel775</th>\n",
              "      <th>pixel776</th>\n",
              "      <th>pixel777</th>\n",
              "      <th>pixel778</th>\n",
              "      <th>pixel779</th>\n",
              "      <th>pixel780</th>\n",
              "      <th>pixel781</th>\n",
              "      <th>pixel782</th>\n",
              "      <th>pixel783</th>\n",
              "    </tr>\n",
              "  </thead>\n",
              "  <tbody>\n",
              "    <tr>\n",
              "      <th>0</th>\n",
              "      <td>1</td>\n",
              "      <td>0</td>\n",
              "      <td>0</td>\n",
              "      <td>0</td>\n",
              "      <td>0</td>\n",
              "      <td>0</td>\n",
              "      <td>0</td>\n",
              "      <td>0</td>\n",
              "      <td>0</td>\n",
              "      <td>0</td>\n",
              "      <td>...</td>\n",
              "      <td>0</td>\n",
              "      <td>0</td>\n",
              "      <td>0</td>\n",
              "      <td>0</td>\n",
              "      <td>0</td>\n",
              "      <td>0</td>\n",
              "      <td>0</td>\n",
              "      <td>0</td>\n",
              "      <td>0</td>\n",
              "      <td>0</td>\n",
              "    </tr>\n",
              "    <tr>\n",
              "      <th>1</th>\n",
              "      <td>0</td>\n",
              "      <td>0</td>\n",
              "      <td>0</td>\n",
              "      <td>0</td>\n",
              "      <td>0</td>\n",
              "      <td>0</td>\n",
              "      <td>0</td>\n",
              "      <td>0</td>\n",
              "      <td>0</td>\n",
              "      <td>0</td>\n",
              "      <td>...</td>\n",
              "      <td>0</td>\n",
              "      <td>0</td>\n",
              "      <td>0</td>\n",
              "      <td>0</td>\n",
              "      <td>0</td>\n",
              "      <td>0</td>\n",
              "      <td>0</td>\n",
              "      <td>0</td>\n",
              "      <td>0</td>\n",
              "      <td>0</td>\n",
              "    </tr>\n",
              "    <tr>\n",
              "      <th>2</th>\n",
              "      <td>1</td>\n",
              "      <td>0</td>\n",
              "      <td>0</td>\n",
              "      <td>0</td>\n",
              "      <td>0</td>\n",
              "      <td>0</td>\n",
              "      <td>0</td>\n",
              "      <td>0</td>\n",
              "      <td>0</td>\n",
              "      <td>0</td>\n",
              "      <td>...</td>\n",
              "      <td>0</td>\n",
              "      <td>0</td>\n",
              "      <td>0</td>\n",
              "      <td>0</td>\n",
              "      <td>0</td>\n",
              "      <td>0</td>\n",
              "      <td>0</td>\n",
              "      <td>0</td>\n",
              "      <td>0</td>\n",
              "      <td>0</td>\n",
              "    </tr>\n",
              "    <tr>\n",
              "      <th>3</th>\n",
              "      <td>4</td>\n",
              "      <td>0</td>\n",
              "      <td>0</td>\n",
              "      <td>0</td>\n",
              "      <td>0</td>\n",
              "      <td>0</td>\n",
              "      <td>0</td>\n",
              "      <td>0</td>\n",
              "      <td>0</td>\n",
              "      <td>0</td>\n",
              "      <td>...</td>\n",
              "      <td>0</td>\n",
              "      <td>0</td>\n",
              "      <td>0</td>\n",
              "      <td>0</td>\n",
              "      <td>0</td>\n",
              "      <td>0</td>\n",
              "      <td>0</td>\n",
              "      <td>0</td>\n",
              "      <td>0</td>\n",
              "      <td>0</td>\n",
              "    </tr>\n",
              "    <tr>\n",
              "      <th>4</th>\n",
              "      <td>0</td>\n",
              "      <td>0</td>\n",
              "      <td>0</td>\n",
              "      <td>0</td>\n",
              "      <td>0</td>\n",
              "      <td>0</td>\n",
              "      <td>0</td>\n",
              "      <td>0</td>\n",
              "      <td>0</td>\n",
              "      <td>0</td>\n",
              "      <td>...</td>\n",
              "      <td>0</td>\n",
              "      <td>0</td>\n",
              "      <td>0</td>\n",
              "      <td>0</td>\n",
              "      <td>0</td>\n",
              "      <td>0</td>\n",
              "      <td>0</td>\n",
              "      <td>0</td>\n",
              "      <td>0</td>\n",
              "      <td>0</td>\n",
              "    </tr>\n",
              "    <tr>\n",
              "      <th>...</th>\n",
              "      <td>...</td>\n",
              "      <td>...</td>\n",
              "      <td>...</td>\n",
              "      <td>...</td>\n",
              "      <td>...</td>\n",
              "      <td>...</td>\n",
              "      <td>...</td>\n",
              "      <td>...</td>\n",
              "      <td>...</td>\n",
              "      <td>...</td>\n",
              "      <td>...</td>\n",
              "      <td>...</td>\n",
              "      <td>...</td>\n",
              "      <td>...</td>\n",
              "      <td>...</td>\n",
              "      <td>...</td>\n",
              "      <td>...</td>\n",
              "      <td>...</td>\n",
              "      <td>...</td>\n",
              "      <td>...</td>\n",
              "      <td>...</td>\n",
              "    </tr>\n",
              "    <tr>\n",
              "      <th>41995</th>\n",
              "      <td>0</td>\n",
              "      <td>0</td>\n",
              "      <td>0</td>\n",
              "      <td>0</td>\n",
              "      <td>0</td>\n",
              "      <td>0</td>\n",
              "      <td>0</td>\n",
              "      <td>0</td>\n",
              "      <td>0</td>\n",
              "      <td>0</td>\n",
              "      <td>...</td>\n",
              "      <td>0</td>\n",
              "      <td>0</td>\n",
              "      <td>0</td>\n",
              "      <td>0</td>\n",
              "      <td>0</td>\n",
              "      <td>0</td>\n",
              "      <td>0</td>\n",
              "      <td>0</td>\n",
              "      <td>0</td>\n",
              "      <td>0</td>\n",
              "    </tr>\n",
              "    <tr>\n",
              "      <th>41996</th>\n",
              "      <td>1</td>\n",
              "      <td>0</td>\n",
              "      <td>0</td>\n",
              "      <td>0</td>\n",
              "      <td>0</td>\n",
              "      <td>0</td>\n",
              "      <td>0</td>\n",
              "      <td>0</td>\n",
              "      <td>0</td>\n",
              "      <td>0</td>\n",
              "      <td>...</td>\n",
              "      <td>0</td>\n",
              "      <td>0</td>\n",
              "      <td>0</td>\n",
              "      <td>0</td>\n",
              "      <td>0</td>\n",
              "      <td>0</td>\n",
              "      <td>0</td>\n",
              "      <td>0</td>\n",
              "      <td>0</td>\n",
              "      <td>0</td>\n",
              "    </tr>\n",
              "    <tr>\n",
              "      <th>41997</th>\n",
              "      <td>7</td>\n",
              "      <td>0</td>\n",
              "      <td>0</td>\n",
              "      <td>0</td>\n",
              "      <td>0</td>\n",
              "      <td>0</td>\n",
              "      <td>0</td>\n",
              "      <td>0</td>\n",
              "      <td>0</td>\n",
              "      <td>0</td>\n",
              "      <td>...</td>\n",
              "      <td>0</td>\n",
              "      <td>0</td>\n",
              "      <td>0</td>\n",
              "      <td>0</td>\n",
              "      <td>0</td>\n",
              "      <td>0</td>\n",
              "      <td>0</td>\n",
              "      <td>0</td>\n",
              "      <td>0</td>\n",
              "      <td>0</td>\n",
              "    </tr>\n",
              "    <tr>\n",
              "      <th>41998</th>\n",
              "      <td>6</td>\n",
              "      <td>0</td>\n",
              "      <td>0</td>\n",
              "      <td>0</td>\n",
              "      <td>0</td>\n",
              "      <td>0</td>\n",
              "      <td>0</td>\n",
              "      <td>0</td>\n",
              "      <td>0</td>\n",
              "      <td>0</td>\n",
              "      <td>...</td>\n",
              "      <td>0</td>\n",
              "      <td>0</td>\n",
              "      <td>0</td>\n",
              "      <td>0</td>\n",
              "      <td>0</td>\n",
              "      <td>0</td>\n",
              "      <td>0</td>\n",
              "      <td>0</td>\n",
              "      <td>0</td>\n",
              "      <td>0</td>\n",
              "    </tr>\n",
              "    <tr>\n",
              "      <th>41999</th>\n",
              "      <td>9</td>\n",
              "      <td>0</td>\n",
              "      <td>0</td>\n",
              "      <td>0</td>\n",
              "      <td>0</td>\n",
              "      <td>0</td>\n",
              "      <td>0</td>\n",
              "      <td>0</td>\n",
              "      <td>0</td>\n",
              "      <td>0</td>\n",
              "      <td>...</td>\n",
              "      <td>0</td>\n",
              "      <td>0</td>\n",
              "      <td>0</td>\n",
              "      <td>0</td>\n",
              "      <td>0</td>\n",
              "      <td>0</td>\n",
              "      <td>0</td>\n",
              "      <td>0</td>\n",
              "      <td>0</td>\n",
              "      <td>0</td>\n",
              "    </tr>\n",
              "  </tbody>\n",
              "</table>\n",
              "<p>42000 rows × 785 columns</p>\n",
              "</div>\n",
              "      <button class=\"colab-df-convert\" onclick=\"convertToInteractive('df-370c2e10-df87-4858-94cb-401862566c6b')\"\n",
              "              title=\"Convert this dataframe to an interactive table.\"\n",
              "              style=\"display:none;\">\n",
              "        \n",
              "  <svg xmlns=\"http://www.w3.org/2000/svg\" height=\"24px\"viewBox=\"0 0 24 24\"\n",
              "       width=\"24px\">\n",
              "    <path d=\"M0 0h24v24H0V0z\" fill=\"none\"/>\n",
              "    <path d=\"M18.56 5.44l.94 2.06.94-2.06 2.06-.94-2.06-.94-.94-2.06-.94 2.06-2.06.94zm-11 1L8.5 8.5l.94-2.06 2.06-.94-2.06-.94L8.5 2.5l-.94 2.06-2.06.94zm10 10l.94 2.06.94-2.06 2.06-.94-2.06-.94-.94-2.06-.94 2.06-2.06.94z\"/><path d=\"M17.41 7.96l-1.37-1.37c-.4-.4-.92-.59-1.43-.59-.52 0-1.04.2-1.43.59L10.3 9.45l-7.72 7.72c-.78.78-.78 2.05 0 2.83L4 21.41c.39.39.9.59 1.41.59.51 0 1.02-.2 1.41-.59l7.78-7.78 2.81-2.81c.8-.78.8-2.07 0-2.86zM5.41 20L4 18.59l7.72-7.72 1.47 1.35L5.41 20z\"/>\n",
              "  </svg>\n",
              "      </button>\n",
              "      \n",
              "  <style>\n",
              "    .colab-df-container {\n",
              "      display:flex;\n",
              "      flex-wrap:wrap;\n",
              "      gap: 12px;\n",
              "    }\n",
              "\n",
              "    .colab-df-convert {\n",
              "      background-color: #E8F0FE;\n",
              "      border: none;\n",
              "      border-radius: 50%;\n",
              "      cursor: pointer;\n",
              "      display: none;\n",
              "      fill: #1967D2;\n",
              "      height: 32px;\n",
              "      padding: 0 0 0 0;\n",
              "      width: 32px;\n",
              "    }\n",
              "\n",
              "    .colab-df-convert:hover {\n",
              "      background-color: #E2EBFA;\n",
              "      box-shadow: 0px 1px 2px rgba(60, 64, 67, 0.3), 0px 1px 3px 1px rgba(60, 64, 67, 0.15);\n",
              "      fill: #174EA6;\n",
              "    }\n",
              "\n",
              "    [theme=dark] .colab-df-convert {\n",
              "      background-color: #3B4455;\n",
              "      fill: #D2E3FC;\n",
              "    }\n",
              "\n",
              "    [theme=dark] .colab-df-convert:hover {\n",
              "      background-color: #434B5C;\n",
              "      box-shadow: 0px 1px 3px 1px rgba(0, 0, 0, 0.15);\n",
              "      filter: drop-shadow(0px 1px 2px rgba(0, 0, 0, 0.3));\n",
              "      fill: #FFFFFF;\n",
              "    }\n",
              "  </style>\n",
              "\n",
              "      <script>\n",
              "        const buttonEl =\n",
              "          document.querySelector('#df-370c2e10-df87-4858-94cb-401862566c6b button.colab-df-convert');\n",
              "        buttonEl.style.display =\n",
              "          google.colab.kernel.accessAllowed ? 'block' : 'none';\n",
              "\n",
              "        async function convertToInteractive(key) {\n",
              "          const element = document.querySelector('#df-370c2e10-df87-4858-94cb-401862566c6b');\n",
              "          const dataTable =\n",
              "            await google.colab.kernel.invokeFunction('convertToInteractive',\n",
              "                                                     [key], {});\n",
              "          if (!dataTable) return;\n",
              "\n",
              "          const docLinkHtml = 'Like what you see? Visit the ' +\n",
              "            '<a target=\"_blank\" href=https://colab.research.google.com/notebooks/data_table.ipynb>data table notebook</a>'\n",
              "            + ' to learn more about interactive tables.';\n",
              "          element.innerHTML = '';\n",
              "          dataTable['output_type'] = 'display_data';\n",
              "          await google.colab.output.renderOutput(dataTable, element);\n",
              "          const docLink = document.createElement('div');\n",
              "          docLink.innerHTML = docLinkHtml;\n",
              "          element.appendChild(docLink);\n",
              "        }\n",
              "      </script>\n",
              "    </div>\n",
              "  </div>\n",
              "  "
            ]
          },
          "metadata": {},
          "execution_count": 147
        }
      ],
      "source": [
        "import numpy as np # linear algebra\n",
        "import pandas as pd # data processing, CSV file I/O (e.g. pd.read_csv)\n",
        "\n",
        "import plotly.offline as py\n",
        "py.init_notebook_mode(connected=True)\n",
        "import plotly.graph_objs as go\n",
        "import plotly.tools as tls\n",
        "import seaborn as sns\n",
        "import matplotlib.image as mpimg\n",
        "import matplotlib.pyplot as plt\n",
        "import matplotlib\n",
        "%matplotlib inline\n",
        "\n",
        "# Import the 3 dimensionality reduction methods\n",
        "from sklearn.manifold import TSNE\n",
        "from sklearn.decomposition import PCA\n",
        "from sklearn.discriminant_analysis import LinearDiscriminantAnalysis as LDA\n",
        "\n",
        "from google.colab import drive\n",
        "drive.mount('/content/drive')\n",
        "\n",
        "df= pd.read_csv('/content/drive/My Drive/Dataset/train.csv')\n",
        "df"
      ]
    },
    {
      "cell_type": "code",
      "source": [
        "df.info()\n",
        "df.isnull().sum()"
      ],
      "metadata": {
        "colab": {
          "base_uri": "https://localhost:8080/"
        },
        "id": "7Z9ej4y_2Qg5",
        "outputId": "7492f2bf-8e5b-42c8-e6ec-2713a3629ae6"
      },
      "execution_count": null,
      "outputs": [
        {
          "output_type": "stream",
          "name": "stdout",
          "text": [
            "<class 'pandas.core.frame.DataFrame'>\n",
            "RangeIndex: 42000 entries, 0 to 41999\n",
            "Columns: 785 entries, label to pixel783\n",
            "dtypes: int64(785)\n",
            "memory usage: 251.5 MB\n"
          ]
        },
        {
          "output_type": "execute_result",
          "data": {
            "text/plain": [
              "label       0\n",
              "pixel0      0\n",
              "pixel1      0\n",
              "pixel2      0\n",
              "pixel3      0\n",
              "           ..\n",
              "pixel779    0\n",
              "pixel780    0\n",
              "pixel781    0\n",
              "pixel782    0\n",
              "pixel783    0\n",
              "Length: 785, dtype: int64"
            ]
          },
          "metadata": {},
          "execution_count": 148
        }
      ]
    },
    {
      "cell_type": "code",
      "source": [
        "if len(df.select_dtypes('int').columns) == df.shape[1]:\n",
        "    print(\"All int values!\")\n",
        "else:\n",
        "    print(\"Few non-int values!\")"
      ],
      "metadata": {
        "colab": {
          "base_uri": "https://localhost:8080/"
        },
        "id": "VzY7Y_Zs2RBS",
        "outputId": "6f4b0889-0f5b-4bd5-92d3-7cc5aaf6ce43"
      },
      "execution_count": null,
      "outputs": [
        {
          "output_type": "stream",
          "name": "stdout",
          "text": [
            "All int values!\n"
          ]
        }
      ]
    },
    {
      "cell_type": "code",
      "source": [
        "print(\"Number of Observations are {0} while number of features are {1} \".format(df.shape[0],df.shape[1]))"
      ],
      "metadata": {
        "colab": {
          "base_uri": "https://localhost:8080/"
        },
        "id": "4CF3EQfe2RH6",
        "outputId": "83de8f3a-bfae-4efa-cbf2-3420492144cc"
      },
      "execution_count": null,
      "outputs": [
        {
          "output_type": "stream",
          "name": "stdout",
          "text": [
            "Number of Observations are 42000 while number of features are 785 \n"
          ]
        }
      ]
    },
    {
      "cell_type": "code",
      "source": [
        "covv = np.cov(df.T)#transpose matrix"
      ],
      "metadata": {
        "id": "R-SKmVjr2RMa"
      },
      "execution_count": null,
      "outputs": []
    },
    {
      "cell_type": "code",
      "source": [
        "covv.shape"
      ],
      "metadata": {
        "colab": {
          "base_uri": "https://localhost:8080/"
        },
        "id": "7bkRfdta2RQa",
        "outputId": "dc570930-7d56-4f4f-95dd-f9a678a30f80"
      },
      "execution_count": null,
      "outputs": [
        {
          "output_type": "execute_result",
          "data": {
            "text/plain": [
              "(785, 785)"
            ]
          },
          "metadata": {},
          "execution_count": 152
        }
      ]
    },
    {
      "cell_type": "code",
      "source": [
        "eigenvalues, eigenvectors=np.linalg.eig(covv)"
      ],
      "metadata": {
        "id": "XSvBgES_2RUa"
      },
      "execution_count": null,
      "outputs": []
    },
    {
      "cell_type": "code",
      "source": [
        "print(\"EIGENVALUES\")\n",
        "print(eigenvalues)\n",
        "print(\"EIGENVECTORS\")\n",
        "print(eigenvectors)"
      ],
      "metadata": {
        "colab": {
          "base_uri": "https://localhost:8080/"
        },
        "id": "98_ee9zo-h2z",
        "outputId": "835596ff-42cb-4e53-aca8-8e9c773cb018"
      },
      "execution_count": null,
      "outputs": [
        {
          "output_type": "stream",
          "name": "stdout",
          "text": [
            "EIGENVALUES\n",
            "[ 3.34780807e+05+0.00000000e+00j  2.45887077e+05+0.00000000e+00j\n",
            "  2.11051680e+05+0.00000000e+00j  1.84726586e+05+0.00000000e+00j\n",
            "  1.68070910e+05+0.00000000e+00j  1.47773324e+05+0.00000000e+00j\n",
            "  1.12534620e+05+0.00000000e+00j  9.93154695e+04+0.00000000e+00j\n",
            "  9.50160154e+04+0.00000000e+00j  8.06607863e+04+0.00000000e+00j\n",
            "  7.20912849e+04+0.00000000e+00j  7.07066235e+04+0.00000000e+00j\n",
            "  5.84662680e+04+0.00000000e+00j  5.81306730e+04+0.00000000e+00j\n",
            "  5.42962960e+04+0.00000000e+00j  5.09347700e+04+0.00000000e+00j\n",
            "  4.53185061e+04+0.00000000e+00j  4.40491239e+04+0.00000000e+00j\n",
            "  4.07953624e+04+0.00000000e+00j  3.95859262e+04+0.00000000e+00j\n",
            "  3.68192832e+04+0.00000000e+00j  3.48621615e+04+0.00000000e+00j\n",
            "  3.31350624e+04+0.00000000e+00j  3.13473284e+04+0.00000000e+00j\n",
            "  3.04817759e+04+0.00000000e+00j  2.88034394e+04+0.00000000e+00j\n",
            "  2.78793695e+04+0.00000000e+00j  2.66963019e+04+0.00000000e+00j\n",
            "  2.54335827e+04+0.00000000e+00j  2.35801040e+04+0.00000000e+00j\n",
            "  2.25952505e+04+0.00000000e+00j  2.19365217e+04+0.00000000e+00j\n",
            "  2.05823907e+04+0.00000000e+00j  2.02234396e+04+0.00000000e+00j\n",
            "  1.93793900e+04+0.00000000e+00j  1.85769281e+04+0.00000000e+00j\n",
            "  1.74867973e+04+0.00000000e+00j  1.67410248e+04+0.00000000e+00j\n",
            "  1.63311550e+04+0.00000000e+00j  1.60212450e+04+0.00000000e+00j\n",
            "  1.55545035e+04+0.00000000e+00j  1.52810356e+04+0.00000000e+00j\n",
            "  1.43629903e+04+0.00000000e+00j  1.36504530e+04+0.00000000e+00j\n",
            "  1.32052620e+04+0.00000000e+00j  1.28748146e+04+0.00000000e+00j\n",
            "  1.23973025e+04+0.00000000e+00j  1.19683287e+04+0.00000000e+00j\n",
            "  1.15550723e+04+0.00000000e+00j  1.10142185e+04+0.00000000e+00j\n",
            "  1.08332172e+04+0.00000000e+00j  1.06161236e+04+0.00000000e+00j\n",
            "  1.00860361e+04+0.00000000e+00j  9.83989331e+03+0.00000000e+00j\n",
            "  9.64135250e+03+0.00000000e+00j  9.25876140e+03+0.00000000e+00j\n",
            "  9.12870709e+03+0.00000000e+00j  8.80135216e+03+0.00000000e+00j\n",
            "  8.71627027e+03+0.00000000e+00j  8.45383657e+03+0.00000000e+00j\n",
            "  8.19837398e+03+0.00000000e+00j  8.23190502e+03+0.00000000e+00j\n",
            "  7.81553971e+03+0.00000000e+00j  7.60699727e+03+0.00000000e+00j\n",
            "  7.34653023e+03+0.00000000e+00j  7.07867358e+03+0.00000000e+00j\n",
            "  6.96595430e+03+0.00000000e+00j  6.72988489e+03+0.00000000e+00j\n",
            "  6.64959115e+03+0.00000000e+00j  6.47262673e+03+0.00000000e+00j\n",
            "  6.41307086e+03+0.00000000e+00j  6.23860483e+03+0.00000000e+00j\n",
            "  6.07450537e+03+0.00000000e+00j  5.92686158e+03+0.00000000e+00j\n",
            "  5.70462724e+03+0.00000000e+00j  5.60808445e+03+0.00000000e+00j\n",
            "  5.51508440e+03+0.00000000e+00j  5.30461605e+03+0.00000000e+00j\n",
            "  5.04286746e+03+0.00000000e+00j  4.88922602e+03+0.00000000e+00j\n",
            "  4.84535907e+03+0.00000000e+00j  4.81547655e+03+0.00000000e+00j\n",
            "  4.76761727e+03+0.00000000e+00j  4.65026022e+03+0.00000000e+00j\n",
            "  4.54346078e+03+0.00000000e+00j  4.49101014e+03+0.00000000e+00j\n",
            "  4.45302594e+03+0.00000000e+00j  4.26644437e+03+0.00000000e+00j\n",
            "  4.19806462e+03+0.00000000e+00j  4.10792931e+03+0.00000000e+00j\n",
            "  3.97798714e+03+0.00000000e+00j  3.85515483e+03+0.00000000e+00j\n",
            "  3.90994201e+03+0.00000000e+00j  3.79374058e+03+0.00000000e+00j\n",
            "  3.71331358e+03+0.00000000e+00j  3.68857328e+03+0.00000000e+00j\n",
            "  3.56677745e+03+0.00000000e+00j  3.54809976e+03+0.00000000e+00j\n",
            "  3.48534949e+03+0.00000000e+00j  3.43390816e+03+0.00000000e+00j\n",
            "  3.34754921e+03+0.00000000e+00j  3.24535667e+03+0.00000000e+00j\n",
            "  3.22332132e+03+0.00000000e+00j  3.13258658e+03+0.00000000e+00j\n",
            "  3.11573415e+03+0.00000000e+00j  3.05240446e+03+0.00000000e+00j\n",
            "  2.96596747e+03+0.00000000e+00j  2.89912110e+03+0.00000000e+00j\n",
            "  2.86926848e+03+0.00000000e+00j  2.80440057e+03+0.00000000e+00j\n",
            "  2.70491645e+03+0.00000000e+00j  2.68389388e+03+0.00000000e+00j\n",
            "  2.66983066e+03+0.00000000e+00j  2.65083716e+03+0.00000000e+00j\n",
            "  2.60245108e+03+0.00000000e+00j  2.57626229e+03+0.00000000e+00j\n",
            "  2.52220801e+03+0.00000000e+00j  2.49231855e+03+0.00000000e+00j\n",
            "  2.45643330e+03+0.00000000e+00j  2.40493149e+03+0.00000000e+00j\n",
            "  2.37994801e+03+0.00000000e+00j  2.35485011e+03+0.00000000e+00j\n",
            "  2.33490645e+03+0.00000000e+00j  2.28609211e+03+0.00000000e+00j\n",
            "  2.25320085e+03+0.00000000e+00j  2.21426306e+03+0.00000000e+00j\n",
            "  2.18195009e+03+0.00000000e+00j  2.12400661e+03+0.00000000e+00j\n",
            "  2.15012629e+03+0.00000000e+00j  2.08013360e+03+0.00000000e+00j\n",
            "  2.07365199e+03+0.00000000e+00j  2.03106284e+03+0.00000000e+00j\n",
            "  2.01199082e+03+0.00000000e+00j  2.00764332e+03+0.00000000e+00j\n",
            "  1.89961493e+03+0.00000000e+00j  1.97621733e+03+0.00000000e+00j\n",
            "  1.95643236e+03+0.00000000e+00j  1.93849527e+03+0.00000000e+00j\n",
            "  1.83495215e+03+0.00000000e+00j  1.80553126e+03+0.00000000e+00j\n",
            "  1.79244228e+03+0.00000000e+00j  1.73467816e+03+0.00000000e+00j\n",
            "  1.75545022e+03+0.00000000e+00j  1.71675306e+03+0.00000000e+00j\n",
            "  1.70095394e+03+0.00000000e+00j  1.69073713e+03+0.00000000e+00j\n",
            "  1.66342434e+03+0.00000000e+00j  1.63695120e+03+0.00000000e+00j\n",
            "  1.63001425e+03+0.00000000e+00j  1.60674743e+03+0.00000000e+00j\n",
            "  1.59784085e+03+0.00000000e+00j  1.58432866e+03+0.00000000e+00j\n",
            "  1.50681476e+03+0.00000000e+00j  1.51563164e+03+0.00000000e+00j\n",
            "  1.56706978e+03+0.00000000e+00j  1.55134116e+03+0.00000000e+00j\n",
            "  1.54355354e+03+0.00000000e+00j  1.45736419e+03+0.00000000e+00j\n",
            "  1.44337046e+03+0.00000000e+00j  1.42977413e+03+0.00000000e+00j\n",
            "  1.42110213e+03+0.00000000e+00j  1.39798781e+03+0.00000000e+00j\n",
            "  1.36862357e+03+0.00000000e+00j  1.34408373e+03+0.00000000e+00j\n",
            "  1.35424057e+03+0.00000000e+00j  1.35324690e+03+0.00000000e+00j\n",
            "  1.31064874e+03+0.00000000e+00j  1.30228731e+03+0.00000000e+00j\n",
            "  1.28959968e+03+0.00000000e+00j  1.28374612e+03+0.00000000e+00j\n",
            "  1.25801170e+03+0.00000000e+00j  1.24680430e+03+0.00000000e+00j\n",
            "  1.23387053e+03+0.00000000e+00j  1.22605578e+03+0.00000000e+00j\n",
            "  1.18578061e+03+0.00000000e+00j  1.21136824e+03+0.00000000e+00j\n",
            "  1.21230819e+03+0.00000000e+00j  1.14992203e+03+0.00000000e+00j\n",
            "  1.16471387e+03+0.00000000e+00j  1.17882708e+03+0.00000000e+00j\n",
            "  1.17406088e+03+0.00000000e+00j  1.13269541e+03+0.00000000e+00j\n",
            "  1.11780191e+03+0.00000000e+00j  1.11504390e+03+0.00000000e+00j\n",
            "  1.10236851e+03+0.00000000e+00j  1.10037343e+03+0.00000000e+00j\n",
            "  1.08796641e+03+0.00000000e+00j  1.08925334e+03+0.00000000e+00j\n",
            "  1.06769427e+03+0.00000000e+00j  1.06514259e+03+0.00000000e+00j\n",
            "  1.05367122e+03+0.00000000e+00j  1.04333540e+03+0.00000000e+00j\n",
            "  1.02920811e+03+0.00000000e+00j  1.02446172e+03+0.00000000e+00j\n",
            "  1.00992353e+03+0.00000000e+00j  1.00751533e+03+0.00000000e+00j\n",
            "  1.00609040e+03+0.00000000e+00j  9.93381627e+02+0.00000000e+00j\n",
            "  9.78658205e+02+0.00000000e+00j  9.74222393e+02+0.00000000e+00j\n",
            "  9.65243108e+02+0.00000000e+00j  9.48677298e+02+0.00000000e+00j\n",
            "  9.41280564e+02+0.00000000e+00j  9.32687315e+02+0.00000000e+00j\n",
            "  9.18678383e+02+0.00000000e+00j  9.16176233e+02+0.00000000e+00j\n",
            "  9.02777877e+02+0.00000000e+00j  8.99873954e+02+0.00000000e+00j\n",
            "  8.97953221e+02+0.00000000e+00j  8.86848529e+02+0.00000000e+00j\n",
            "  8.81183507e+02+0.00000000e+00j  8.72625100e+02+0.00000000e+00j\n",
            "  8.77005947e+02+0.00000000e+00j  8.68170222e+02+0.00000000e+00j\n",
            "  8.61638884e+02+0.00000000e+00j  8.52621070e+02+0.00000000e+00j\n",
            "  8.50318933e+02+0.00000000e+00j  8.39485965e+02+0.00000000e+00j\n",
            "  8.35452397e+02+0.00000000e+00j  8.27573290e+02+0.00000000e+00j\n",
            "  8.12029491e+02+0.00000000e+00j  8.25112729e+02+0.00000000e+00j\n",
            "  8.19339120e+02+0.00000000e+00j  8.21982700e+02+0.00000000e+00j\n",
            "  7.96890919e+02+0.00000000e+00j  7.93216146e+02+0.00000000e+00j\n",
            "  7.86331570e+02+0.00000000e+00j  7.80508523e+02+0.00000000e+00j\n",
            "  7.75976096e+02+0.00000000e+00j  7.71906040e+02+0.00000000e+00j\n",
            "  7.53607325e+02+0.00000000e+00j  7.58844180e+02+0.00000000e+00j\n",
            "  7.46504389e+02+0.00000000e+00j  7.41501289e+02+0.00000000e+00j\n",
            "  6.41581188e+02+0.00000000e+00j  7.38147045e+02+0.00000000e+00j\n",
            "  7.33558931e+02+0.00000000e+00j  7.14666324e+02+0.00000000e+00j\n",
            "  7.26255891e+02+0.00000000e+00j  7.24113651e+02+0.00000000e+00j\n",
            "  7.04562305e+02+0.00000000e+00j  6.85660179e+02+0.00000000e+00j\n",
            "  6.53322250e+02+0.00000000e+00j  6.98040382e+02+0.00000000e+00j\n",
            "  6.92932201e+02+0.00000000e+00j  6.69006497e+02+0.00000000e+00j\n",
            "  6.79883289e+02+0.00000000e+00j  6.59766647e+02+0.00000000e+00j\n",
            "  6.75838987e+02+0.00000000e+00j  6.61622436e+02+0.00000000e+00j\n",
            "  6.99668898e+02+0.00000000e+00j  6.65230760e+02+0.00000000e+00j\n",
            "  6.46931589e+02+0.00000000e+00j  6.16794977e+02+0.00000000e+00j\n",
            "  6.35258699e+02+0.00000000e+00j  6.34251055e+02+0.00000000e+00j\n",
            "  6.32207379e+02+0.00000000e+00j  6.26103149e+02+0.00000000e+00j\n",
            "  6.27698245e+02+0.00000000e+00j  6.22904712e+02+0.00000000e+00j\n",
            "  6.06828652e+02+0.00000000e+00j  6.03070297e+02+0.00000000e+00j\n",
            "  6.00461308e+02+0.00000000e+00j  5.95746843e+02+0.00000000e+00j\n",
            "  5.92451555e+02+0.00000000e+00j  5.88854262e+02+0.00000000e+00j\n",
            "  5.87675628e+02+0.00000000e+00j  5.79571512e+02+0.00000000e+00j\n",
            "  5.77373549e+02+0.00000000e+00j  5.75860558e+02+0.00000000e+00j\n",
            "  5.70969483e+02+0.00000000e+00j  5.64188132e+02+0.00000000e+00j\n",
            "  5.62845422e+02+0.00000000e+00j  5.59835272e+02+0.00000000e+00j\n",
            "  5.57161172e+02+0.00000000e+00j  5.50935108e+02+0.00000000e+00j\n",
            "  5.50389620e+02+0.00000000e+00j  5.39997577e+02+0.00000000e+00j\n",
            "  5.45486646e+02+0.00000000e+00j  5.43919256e+02+0.00000000e+00j\n",
            "  5.33720095e+02+0.00000000e+00j  5.30382738e+02+0.00000000e+00j\n",
            "  5.27556511e+02+0.00000000e+00j  5.21398437e+02+0.00000000e+00j\n",
            "  5.18134344e+02+0.00000000e+00j  5.16484779e+02+0.00000000e+00j\n",
            "  5.11798620e+02+0.00000000e+00j  5.09228974e+02+0.00000000e+00j\n",
            "  5.03765137e+02+0.00000000e+00j  5.01086041e+02+0.00000000e+00j\n",
            "  4.90884381e+02+0.00000000e+00j  4.92680483e+02+0.00000000e+00j\n",
            "  4.92486014e+02+0.00000000e+00j  4.81870278e+02+0.00000000e+00j\n",
            "  4.87164102e+02+0.00000000e+00j  4.85689003e+02+0.00000000e+00j\n",
            "  4.75071587e+02+0.00000000e+00j  4.71996736e+02+0.00000000e+00j\n",
            "  4.68327117e+02+0.00000000e+00j  4.64142347e+02+0.00000000e+00j\n",
            "  4.54276649e+02+0.00000000e+00j  4.58092870e+02+0.00000000e+00j\n",
            "  4.61546489e+02+0.00000000e+00j  4.65139852e+02+0.00000000e+00j\n",
            "  4.49008156e+02+0.00000000e+00j  4.41393494e+02+0.00000000e+00j\n",
            "  4.46047337e+02+0.00000000e+00j  4.39036028e+02+0.00000000e+00j\n",
            "  4.36034623e+02+0.00000000e+00j  4.34776303e+02+0.00000000e+00j\n",
            "  4.32288184e+02+0.00000000e+00j  4.29777028e+02+0.00000000e+00j\n",
            "  4.25911756e+02+0.00000000e+00j  4.08705363e+02+0.00000000e+00j\n",
            "  4.20062016e+02+0.00000000e+00j  4.20810187e+02+0.00000000e+00j\n",
            "  4.12363572e+02+0.00000000e+00j  4.16151565e+02+0.00000000e+00j\n",
            "  4.15056951e+02+0.00000000e+00j  4.06031456e+02+0.00000000e+00j\n",
            "  3.97459204e+02+0.00000000e+00j  4.02585405e+02+0.00000000e+00j\n",
            "  3.96149957e+02+0.00000000e+00j  3.90196808e+02+0.00000000e+00j\n",
            "  3.88682386e+02+0.00000000e+00j  3.93403414e+02+0.00000000e+00j\n",
            "  3.83771941e+02+0.00000000e+00j  3.78752207e+02+0.00000000e+00j\n",
            "  2.49122429e+02+0.00000000e+00j  2.50711670e+02+0.00000000e+00j\n",
            "  3.77608936e+02+0.00000000e+00j  3.66490916e+02+0.00000000e+00j\n",
            "  3.75509997e+02+0.00000000e+00j  3.72514099e+02+0.00000000e+00j\n",
            "  3.70179014e+02+0.00000000e+00j  3.74915429e+02+0.00000000e+00j\n",
            "  3.64276614e+02+0.00000000e+00j  2.54918747e+02+0.00000000e+00j\n",
            "  3.67156850e+02+0.00000000e+00j  2.57314395e+02+0.00000000e+00j\n",
            "  3.58498917e+02+0.00000000e+00j  3.58733182e+02+0.00000000e+00j\n",
            "  3.51008203e+02+0.00000000e+00j  3.53941779e+02+0.00000000e+00j\n",
            "  2.60132356e+02+0.00000000e+00j  2.63059353e+02+0.00000000e+00j\n",
            "  3.45444119e+02+0.00000000e+00j  3.48109783e+02+0.00000000e+00j\n",
            "  3.38535934e+02+0.00000000e+00j  3.41481483e+02+0.00000000e+00j\n",
            "  3.42601636e+02+0.00000000e+00j  2.65979481e+02+0.00000000e+00j\n",
            "  2.67983103e+02+0.00000000e+00j  2.69163790e+02+0.00000000e+00j\n",
            "  2.71296350e+02+0.00000000e+00j  3.30675031e+02+0.00000000e+00j\n",
            "  3.33154983e+02+0.00000000e+00j  2.73722567e+02+0.00000000e+00j\n",
            "  2.77670063e+02+0.00000000e+00j  2.82141404e+02+0.00000000e+00j\n",
            "  3.33026051e+02+0.00000000e+00j  3.24896159e+02+0.00000000e+00j\n",
            "  3.23239358e+02+0.00000000e+00j  3.19515480e+02+0.00000000e+00j\n",
            "  3.17894877e+02+0.00000000e+00j  2.83324916e+02+0.00000000e+00j\n",
            "  3.14491442e+02+0.00000000e+00j  2.84102753e+02+0.00000000e+00j\n",
            "  2.87875990e+02+0.00000000e+00j  2.99191087e+02+0.00000000e+00j\n",
            "  3.00578978e+02+0.00000000e+00j  2.90644095e+02+0.00000000e+00j\n",
            "  3.09165533e+02+0.00000000e+00j  3.10785225e+02+0.00000000e+00j\n",
            "  3.03292833e+02+0.00000000e+00j  3.05564828e+02+0.00000000e+00j\n",
            "  2.94974725e+02+0.00000000e+00j  3.07741762e+02+0.00000000e+00j\n",
            "  3.12768203e+02+0.00000000e+00j  2.92030032e+02+0.00000000e+00j\n",
            "  2.92058066e+02+0.00000000e+00j  2.30154582e+02+0.00000000e+00j\n",
            "  2.33038779e+02+0.00000000e+00j  2.35417916e+02+0.00000000e+00j\n",
            "  2.37617531e+02+0.00000000e+00j  2.38832911e+02+0.00000000e+00j\n",
            "  2.44772407e+02+0.00000000e+00j  2.46406101e+02+0.00000000e+00j\n",
            "  2.48089788e+02+0.00000000e+00j  2.51288010e+02+0.00000000e+00j\n",
            "  1.97465554e+02+0.00000000e+00j  1.98328065e+02+0.00000000e+00j\n",
            "  2.23230179e+02+0.00000000e+00j  2.19378358e+02+0.00000000e+00j\n",
            "  2.26107753e+02+0.00000000e+00j  2.28346653e+02+0.00000000e+00j\n",
            "  2.10554007e+02+0.00000000e+00j  2.04273184e+02+0.00000000e+00j\n",
            "  2.15208080e+02+0.00000000e+00j  2.08654246e+02+0.00000000e+00j\n",
            "  2.01919562e+02+0.00000000e+00j  2.06978413e+02+0.00000000e+00j\n",
            "  2.16027896e+02+0.00000000e+00j  2.00072831e+02+0.00000000e+00j\n",
            "  1.88852696e+02+0.00000000e+00j  1.92624575e+02+0.00000000e+00j\n",
            "  1.93242079e+02+0.00000000e+00j  1.87026028e+02+0.00000000e+00j\n",
            "  1.82453287e+02+0.00000000e+00j  1.79246890e+02+0.00000000e+00j\n",
            "  1.85293729e+02+0.00000000e+00j  1.81176467e+02+0.00000000e+00j\n",
            "  1.71991411e+02+0.00000000e+00j  1.76012356e+02+0.00000000e+00j\n",
            "  1.73925857e+02+0.00000000e+00j  1.65730329e+02+0.00000000e+00j\n",
            "  1.69176900e+02+0.00000000e+00j  1.62134998e+02+0.00000000e+00j\n",
            "  1.60875181e+02+0.00000000e+00j  1.52371930e+02+0.00000000e+00j\n",
            "  1.37709756e+02+0.00000000e+00j  1.49781334e+02+0.00000000e+00j\n",
            "  1.56529107e+02+0.00000000e+00j  1.41187960e+02+0.00000000e+00j\n",
            "  1.43613235e+02+0.00000000e+00j  1.57773523e+02+0.00000000e+00j\n",
            "  1.39073975e+02+0.00000000e+00j  1.58360503e+02+0.00000000e+00j\n",
            "  1.84839905e+02+0.00000000e+00j  1.45704262e+02+0.00000000e+00j\n",
            "  1.69469627e+02+0.00000000e+00j  1.47369264e+02+0.00000000e+00j\n",
            "  1.76420890e+02+0.00000000e+00j  1.46293229e+02+0.00000000e+00j\n",
            "  1.38744662e+02+0.00000000e+00j  1.31764708e+02+0.00000000e+00j\n",
            "  1.25306535e+02+0.00000000e+00j  1.30208056e+02+0.00000000e+00j\n",
            "  1.27773658e+02+0.00000000e+00j  1.29377903e+02+0.00000000e+00j\n",
            "  1.28711832e+02+0.00000000e+00j  1.23922285e+02+0.00000000e+00j\n",
            "  1.20654211e+02+0.00000000e+00j  1.21252057e+02+0.00000000e+00j\n",
            "  1.18245662e+02+0.00000000e+00j  1.19385673e+02+0.00000000e+00j\n",
            "  1.15810449e+02+0.00000000e+00j  1.16826700e+02+0.00000000e+00j\n",
            "  1.10373874e+02+0.00000000e+00j  1.14041669e+02+0.00000000e+00j\n",
            "  1.13737705e+02+0.00000000e+00j  1.08366386e+02+0.00000000e+00j\n",
            "  1.07473618e+02+0.00000000e+00j  1.05842687e+02+0.00000000e+00j\n",
            "  1.03560648e+02+0.00000000e+00j  1.02402924e+02+0.00000000e+00j\n",
            "  1.01123986e+02+0.00000000e+00j  9.57984379e+01+0.00000000e+00j\n",
            "  9.98943025e+01+0.00000000e+00j  9.92064708e+01+0.00000000e+00j\n",
            "  9.70434746e+01+0.00000000e+00j  9.76726781e+01+0.00000000e+00j\n",
            "  5.92427676e+01+0.00000000e+00j  6.08193340e+01+0.00000000e+00j\n",
            "  9.23484547e+01+0.00000000e+00j  9.16294696e+01+0.00000000e+00j\n",
            "  6.14229290e+01+0.00000000e+00j  6.24261276e+01+0.00000000e+00j\n",
            "  8.78016945e+01+0.00000000e+00j  8.79928649e+01+0.00000000e+00j\n",
            "  8.72558451e+01+0.00000000e+00j  6.37290658e+01+0.00000000e+00j\n",
            "  6.68814162e+01+0.00000000e+00j  6.47169865e+01+0.00000000e+00j\n",
            "  6.49257914e+01+0.00000000e+00j  6.79371313e+01+0.00000000e+00j\n",
            "  6.85481346e+01+0.00000000e+00j  7.91831297e+01+0.00000000e+00j\n",
            "  8.11050676e+01+0.00000000e+00j  7.78817657e+01+0.00000000e+00j\n",
            "  6.97514545e+01+0.00000000e+00j  8.37242675e+01+0.00000000e+00j\n",
            "  7.47670518e+01+0.00000000e+00j  7.68135943e+01+0.00000000e+00j\n",
            "  7.34193568e+01+0.00000000e+00j  7.09049075e+01+0.00000000e+00j\n",
            "  8.49425890e+01+0.00000000e+00j  8.25301780e+01+0.00000000e+00j\n",
            "  7.28540728e+01+0.00000000e+00j  8.52604245e+01+0.00000000e+00j\n",
            "  7.13766551e+01+0.00000000e+00j  8.32347320e+01+0.00000000e+00j\n",
            "  7.25103930e+01+0.00000000e+00j  5.15413074e+01+0.00000000e+00j\n",
            "  5.21348040e+01+0.00000000e+00j  5.25172247e+01+0.00000000e+00j\n",
            "  5.53358045e+01+0.00000000e+00j  5.42860594e+01+0.00000000e+00j\n",
            "  5.98563719e+01+0.00000000e+00j  5.37748309e+01+0.00000000e+00j\n",
            "  5.38956357e+01+0.00000000e+00j  5.06316316e+01+0.00000000e+00j\n",
            "  4.96548042e+01+0.00000000e+00j  4.91078925e+01+0.00000000e+00j\n",
            "  4.87812336e+01+0.00000000e+00j  4.52144691e+01+0.00000000e+00j\n",
            "  4.54938191e+01+0.00000000e+00j  4.60515625e+01+0.00000000e+00j\n",
            "  4.69749474e+01+0.00000000e+00j  4.77094330e+01+0.00000000e+00j\n",
            "  4.75850915e+01+0.00000000e+00j  4.06832292e+01+0.00000000e+00j\n",
            "  4.29996386e+01+0.00000000e+00j  4.23441945e+01+0.00000000e+00j\n",
            "  4.22876073e+01+0.00000000e+00j  4.20297663e+01+0.00000000e+00j\n",
            "  3.38536098e+01+0.00000000e+00j  3.80247125e+01+0.00000000e+00j\n",
            "  3.93810186e+01+0.00000000e+00j  3.26226793e+01+0.00000000e+00j\n",
            "  3.66003932e+01+0.00000000e+00j  4.00347049e+01+0.00000000e+00j\n",
            "  3.15439343e+01+0.00000000e+00j  3.75319395e+01+0.00000000e+00j\n",
            "  3.53838950e+01+0.00000000e+00j  3.56227024e+01+0.00000000e+00j\n",
            "  3.99379963e+01+0.00000000e+00j  3.58806985e+01+0.00000000e+00j\n",
            "  3.98034978e+01+0.00000000e+00j  3.19319689e+01+0.00000000e+00j\n",
            "  2.81216387e+01+0.00000000e+00j  2.94384796e+01+0.00000000e+00j\n",
            "  2.92249433e+01+0.00000000e+00j  3.11305689e+01+0.00000000e+00j\n",
            "  3.06151761e+01+0.00000000e+00j  3.08185007e+01+0.00000000e+00j\n",
            "  2.74811964e+01+0.00000000e+00j  2.71454385e+01+0.00000000e+00j\n",
            "  2.65060365e+01+0.00000000e+00j  2.63397780e+01+0.00000000e+00j\n",
            "  2.55823217e+01+0.00000000e+00j  2.42239496e+01+0.00000000e+00j\n",
            "  2.49905162e+01+0.00000000e+00j  2.54049562e+01+0.00000000e+00j\n",
            "  2.38314007e+01+0.00000000e+00j  2.29597094e+01+0.00000000e+00j\n",
            "  2.27595419e+01+0.00000000e+00j  2.21169438e+01+0.00000000e+00j\n",
            "  2.22390751e+01+0.00000000e+00j  2.08857225e+01+0.00000000e+00j\n",
            "  2.06863863e+01+0.00000000e+00j  2.00396250e+01+0.00000000e+00j\n",
            "  1.90213225e+01+0.00000000e+00j  1.86790793e+01+0.00000000e+00j\n",
            "  1.94466487e+01+0.00000000e+00j  1.83247427e+01+0.00000000e+00j\n",
            "  1.75288961e+01+0.00000000e+00j  1.78692608e+01+0.00000000e+00j\n",
            "  1.77870439e+01+0.00000000e+00j  1.63292183e+01+0.00000000e+00j\n",
            "  1.71984241e+01+0.00000000e+00j  1.64872282e+01+0.00000000e+00j\n",
            "  1.69216060e+01+0.00000000e+00j  1.55880587e+01+0.00000000e+00j\n",
            "  1.49700375e+01+0.00000000e+00j  1.47102656e+01+0.00000000e+00j\n",
            "  6.12302632e+00+0.00000000e+00j  1.44634078e+01+0.00000000e+00j\n",
            "  1.39034856e+01+0.00000000e+00j  1.31616630e+01+0.00000000e+00j\n",
            "  1.37265337e+01+0.00000000e+00j  1.36436075e+01+0.00000000e+00j\n",
            "  6.44495278e+00+0.00000000e+00j  1.30941513e+01+0.00000000e+00j\n",
            "  1.29795551e+01+0.00000000e+00j  6.69621300e+00+0.00000000e+00j\n",
            "  7.06893898e+00+0.00000000e+00j  1.22145505e+01+0.00000000e+00j\n",
            "  1.17081032e+01+0.00000000e+00j  1.15816102e+01+0.00000000e+00j\n",
            "  1.12179209e+01+0.00000000e+00j  1.07211935e+01+0.00000000e+00j\n",
            "  7.33970299e+00+0.00000000e+00j  1.02580838e+01+0.00000000e+00j\n",
            "  9.71997809e+00+0.00000000e+00j  7.54495206e+00+0.00000000e+00j\n",
            "  7.77828554e+00+0.00000000e+00j  9.30325832e+00+0.00000000e+00j\n",
            "  1.04721661e+01+0.00000000e+00j  8.13477082e+00+0.00000000e+00j\n",
            "  8.41193206e+00+0.00000000e+00j  7.93604736e+00+0.00000000e+00j\n",
            "  1.04354297e+01+0.00000000e+00j  8.73783690e+00+0.00000000e+00j\n",
            "  8.94991305e+00+0.00000000e+00j  8.64138723e+00+0.00000000e+00j\n",
            "  7.67401428e+00+0.00000000e+00j  9.15099874e+00+0.00000000e+00j\n",
            "  8.99164460e+00+0.00000000e+00j  5.67776445e+00+0.00000000e+00j\n",
            "  4.92707731e+00+0.00000000e+00j  5.08301991e+00+0.00000000e+00j\n",
            "  4.78348800e+00+0.00000000e+00j  4.74904758e+00+0.00000000e+00j\n",
            "  6.03546874e+00+0.00000000e+00j  6.05204974e+00+0.00000000e+00j\n",
            "  5.52122902e+00+0.00000000e+00j  5.46413621e+00+0.00000000e+00j\n",
            "  5.40695664e+00+0.00000000e+00j  4.14485193e+00+0.00000000e+00j\n",
            "  4.05736986e+00+0.00000000e+00j  4.25582341e+00+0.00000000e+00j\n",
            "  4.40423830e+00+0.00000000e+00j  4.39066463e+00+0.00000000e+00j\n",
            "  3.90093242e+00+0.00000000e+00j  3.71885013e+00+0.00000000e+00j\n",
            "  3.65950482e+00+0.00000000e+00j  3.44818331e+00+0.00000000e+00j\n",
            "  3.25025370e+00+0.00000000e+00j  3.18213928e+00+0.00000000e+00j\n",
            "  3.14335591e+00+0.00000000e+00j  2.95341275e+00+0.00000000e+00j\n",
            "  2.99569560e+00+0.00000000e+00j  2.87184820e+00+0.00000000e+00j\n",
            "  2.84132556e+00+0.00000000e+00j  2.74447850e+00+0.00000000e+00j\n",
            "  2.62920612e+00+0.00000000e+00j  2.68807546e+00+0.00000000e+00j\n",
            "  1.90420411e+00+0.00000000e+00j  1.65485687e+00+0.00000000e+00j\n",
            "  2.06075116e+00+0.00000000e+00j  1.70197867e+00+0.00000000e+00j\n",
            "  2.46602185e+00+0.00000000e+00j  2.19108150e+00+0.00000000e+00j\n",
            "  2.24328253e+00+0.00000000e+00j  1.75496157e+00+0.00000000e+00j\n",
            "  1.68260977e+00+0.00000000e+00j  2.13184716e+00+0.00000000e+00j\n",
            "  2.37508787e+00+0.00000000e+00j  2.39858942e+00+0.00000000e+00j\n",
            "  2.38822156e+00+0.00000000e+00j  1.78374079e+00+0.00000000e+00j\n",
            "  1.86865931e+00+0.00000000e+00j  1.30389576e+00+0.00000000e+00j\n",
            "  1.27810530e+00+0.00000000e+00j  1.24571674e+00+0.00000000e+00j\n",
            "  1.21200102e+00+0.00000000e+00j  9.66480248e-01+0.00000000e+00j\n",
            "  1.03099424e+00+0.00000000e+00j  1.05380313e+00+0.00000000e+00j\n",
            "  1.11090114e+00+0.00000000e+00j  1.11203970e+00+0.00000000e+00j\n",
            "  1.09003039e+00+0.00000000e+00j  8.53463647e-01+0.00000000e+00j\n",
            "  8.43950973e-01+0.00000000e+00j  8.03255840e-01+0.00000000e+00j\n",
            "  7.52112551e-01+0.00000000e+00j  7.06102596e-01+0.00000000e+00j\n",
            "  7.90659613e-01+0.00000000e+00j  6.78764520e-01+0.00000000e+00j\n",
            "  5.67296704e-01+0.00000000e+00j  6.02054287e-01+0.00000000e+00j\n",
            "  5.86925331e-01+0.00000000e+00j  6.38973221e-01+0.00000000e+00j\n",
            "  6.50402389e-01+0.00000000e+00j  6.51809590e-01+0.00000000e+00j\n",
            "  3.85650310e-01+0.00000000e+00j  3.76555751e-01+0.00000000e+00j\n",
            "  3.11310648e-01+0.00000000e+00j  2.99712743e-01+0.00000000e+00j\n",
            "  2.57639594e-01+0.00000000e+00j  2.56878897e-01+0.00000000e+00j\n",
            "  2.34006542e-01+0.00000000e+00j  2.36649015e-01+0.00000000e+00j\n",
            "  1.76790168e-01+0.00000000e+00j  1.35273536e-01+0.00000000e+00j\n",
            "  1.46657520e-01+0.00000000e+00j  1.58291715e-01+0.00000000e+00j\n",
            "  1.64945260e-01+0.00000000e+00j  1.11181150e-01+0.00000000e+00j\n",
            "  1.30561146e-01+0.00000000e+00j  8.07574970e-02+0.00000000e+00j\n",
            "  7.60237432e-02+0.00000000e+00j  7.10269235e-02+0.00000000e+00j\n",
            "  6.64053237e-02+0.00000000e+00j  6.76962039e-02+0.00000000e+00j\n",
            "  5.21839586e-02+0.00000000e+00j  4.52260900e-02+0.00000000e+00j\n",
            "  4.05751372e-02+0.00000000e+00j  3.36760511e-02+0.00000000e+00j\n",
            "  2.54990672e-02+0.00000000e+00j  1.97651439e-02+0.00000000e+00j\n",
            "  5.87082451e-02+0.00000000e+00j  6.05321346e-02+0.00000000e+00j\n",
            "  2.42972135e-02+0.00000000e+00j  1.30921702e-02+0.00000000e+00j\n",
            "  1.13650014e-02+0.00000000e+00j  2.97865404e-03+0.00000000e+00j\n",
            "  6.37701993e-03+0.00000000e+00j  6.91161694e-03+0.00000000e+00j\n",
            "  5.57369589e-04+0.00000000e+00j  3.65426478e-04+0.00000000e+00j\n",
            "  3.04569838e-04+0.00000000e+00j  6.03618296e-05+0.00000000e+00j\n",
            "  5.49954570e-05+0.00000000e+00j -5.25512506e-13+0.00000000e+00j\n",
            "  7.42904084e-14+0.00000000e+00j -2.83145138e-16+4.27853994e-16j\n",
            " -2.83145138e-16-4.27853994e-16j  0.00000000e+00+0.00000000e+00j\n",
            "  0.00000000e+00+0.00000000e+00j  0.00000000e+00+0.00000000e+00j\n",
            "  0.00000000e+00+0.00000000e+00j  0.00000000e+00+0.00000000e+00j\n",
            "  0.00000000e+00+0.00000000e+00j  0.00000000e+00+0.00000000e+00j\n",
            "  0.00000000e+00+0.00000000e+00j  0.00000000e+00+0.00000000e+00j\n",
            "  0.00000000e+00+0.00000000e+00j  0.00000000e+00+0.00000000e+00j\n",
            "  0.00000000e+00+0.00000000e+00j  0.00000000e+00+0.00000000e+00j\n",
            "  0.00000000e+00+0.00000000e+00j  0.00000000e+00+0.00000000e+00j\n",
            "  0.00000000e+00+0.00000000e+00j  0.00000000e+00+0.00000000e+00j\n",
            "  0.00000000e+00+0.00000000e+00j  0.00000000e+00+0.00000000e+00j\n",
            "  0.00000000e+00+0.00000000e+00j  0.00000000e+00+0.00000000e+00j\n",
            "  0.00000000e+00+0.00000000e+00j  0.00000000e+00+0.00000000e+00j\n",
            "  0.00000000e+00+0.00000000e+00j  0.00000000e+00+0.00000000e+00j\n",
            "  0.00000000e+00+0.00000000e+00j  0.00000000e+00+0.00000000e+00j\n",
            "  0.00000000e+00+0.00000000e+00j  0.00000000e+00+0.00000000e+00j\n",
            "  0.00000000e+00+0.00000000e+00j  0.00000000e+00+0.00000000e+00j\n",
            "  0.00000000e+00+0.00000000e+00j  0.00000000e+00+0.00000000e+00j\n",
            "  0.00000000e+00+0.00000000e+00j  0.00000000e+00+0.00000000e+00j\n",
            "  0.00000000e+00+0.00000000e+00j  0.00000000e+00+0.00000000e+00j\n",
            "  0.00000000e+00+0.00000000e+00j  0.00000000e+00+0.00000000e+00j\n",
            "  0.00000000e+00+0.00000000e+00j  0.00000000e+00+0.00000000e+00j\n",
            "  0.00000000e+00+0.00000000e+00j  0.00000000e+00+0.00000000e+00j\n",
            "  0.00000000e+00+0.00000000e+00j  0.00000000e+00+0.00000000e+00j\n",
            "  0.00000000e+00+0.00000000e+00j  0.00000000e+00+0.00000000e+00j\n",
            "  0.00000000e+00+0.00000000e+00j  0.00000000e+00+0.00000000e+00j\n",
            "  0.00000000e+00+0.00000000e+00j  0.00000000e+00+0.00000000e+00j\n",
            "  0.00000000e+00+0.00000000e+00j  0.00000000e+00+0.00000000e+00j\n",
            "  0.00000000e+00+0.00000000e+00j  0.00000000e+00+0.00000000e+00j\n",
            "  0.00000000e+00+0.00000000e+00j  0.00000000e+00+0.00000000e+00j\n",
            "  0.00000000e+00+0.00000000e+00j  0.00000000e+00+0.00000000e+00j\n",
            "  0.00000000e+00+0.00000000e+00j  0.00000000e+00+0.00000000e+00j\n",
            "  0.00000000e+00+0.00000000e+00j  0.00000000e+00+0.00000000e+00j\n",
            "  0.00000000e+00+0.00000000e+00j  0.00000000e+00+0.00000000e+00j\n",
            "  0.00000000e+00+0.00000000e+00j  0.00000000e+00+0.00000000e+00j\n",
            "  0.00000000e+00+0.00000000e+00j  0.00000000e+00+0.00000000e+00j\n",
            "  0.00000000e+00+0.00000000e+00j  0.00000000e+00+0.00000000e+00j\n",
            "  0.00000000e+00+0.00000000e+00j  0.00000000e+00+0.00000000e+00j\n",
            "  0.00000000e+00+0.00000000e+00j  0.00000000e+00+0.00000000e+00j\n",
            "  0.00000000e+00+0.00000000e+00j]\n",
            "EIGENVECTORS\n",
            "[[8.02331972e-04+0.j 2.86080795e-03+0.j 4.99446269e-04+0.j ...\n",
            "  0.00000000e+00+0.j 0.00000000e+00+0.j 0.00000000e+00+0.j]\n",
            " [0.00000000e+00+0.j 0.00000000e+00+0.j 0.00000000e+00+0.j ...\n",
            "  0.00000000e+00+0.j 0.00000000e+00+0.j 0.00000000e+00+0.j]\n",
            " [0.00000000e+00+0.j 0.00000000e+00+0.j 0.00000000e+00+0.j ...\n",
            "  0.00000000e+00+0.j 0.00000000e+00+0.j 0.00000000e+00+0.j]\n",
            " ...\n",
            " [0.00000000e+00+0.j 0.00000000e+00+0.j 0.00000000e+00+0.j ...\n",
            "  1.00000000e+00+0.j 0.00000000e+00+0.j 0.00000000e+00+0.j]\n",
            " [0.00000000e+00+0.j 0.00000000e+00+0.j 0.00000000e+00+0.j ...\n",
            "  0.00000000e+00+0.j 1.00000000e+00+0.j 0.00000000e+00+0.j]\n",
            " [0.00000000e+00+0.j 0.00000000e+00+0.j 0.00000000e+00+0.j ...\n",
            "  0.00000000e+00+0.j 0.00000000e+00+0.j 1.00000000e+00+0.j]]\n"
          ]
        }
      ]
    },
    {
      "cell_type": "code",
      "source": [
        "idx=eigenvalues.argsort()[::-1]\n",
        "idx"
      ],
      "metadata": {
        "colab": {
          "base_uri": "https://localhost:8080/"
        },
        "id": "Xi3a4Kwg9wrt",
        "outputId": "203a20cb-1a4d-4fce-a8ce-8d46d453d6fa"
      },
      "execution_count": null,
      "outputs": [
        {
          "output_type": "execute_result",
          "data": {
            "text/plain": [
              "array([  0,   1,   2,   3,   4,   5,   6,   7,   8,   9,  10,  11,  12,\n",
              "        13,  14,  15,  16,  17,  18,  19,  20,  21,  22,  23,  24,  25,\n",
              "        26,  27,  28,  29,  30,  31,  32,  33,  34,  35,  36,  37,  38,\n",
              "        39,  40,  41,  42,  43,  44,  45,  46,  47,  48,  49,  50,  51,\n",
              "        52,  53,  54,  55,  56,  57,  58,  59,  61,  60,  62,  63,  64,\n",
              "        65,  66,  67,  68,  69,  70,  71,  72,  73,  74,  75,  76,  77,\n",
              "        78,  79,  80,  81,  82,  83,  84,  85,  86,  87,  88,  89,  90,\n",
              "        92,  91,  93,  94,  95,  96,  97,  98,  99, 100, 101, 102, 103,\n",
              "       104, 105, 106, 107, 108, 109, 110, 111, 112, 113, 114, 115, 116,\n",
              "       117, 118, 119, 120, 121, 122, 123, 124, 125, 126, 128, 127, 129,\n",
              "       130, 131, 132, 133, 135, 136, 137, 134, 138, 139, 140, 142, 141,\n",
              "       143, 144, 145, 146, 147, 148, 149, 150, 151, 154, 155, 156, 153,\n",
              "       152, 157, 158, 159, 160, 161, 162, 164, 165, 163, 166, 167, 168,\n",
              "       169, 170, 171, 172, 173, 176, 175, 174, 179, 180, 178, 177, 181,\n",
              "       182, 183, 184, 185, 187, 186, 188, 189, 190, 191, 192, 193, 194,\n",
              "       195, 196, 197, 198, 199, 200, 201, 202, 203, 204, 205, 206, 207,\n",
              "       208, 209, 210, 212, 211, 213, 214, 215, 216, 217, 218, 219, 221,\n",
              "       223, 222, 220, 224, 225, 226, 227, 228, 229, 231, 230, 232, 233,\n",
              "       235, 236, 238, 239, 237, 240, 250, 243, 244, 241, 246, 248, 245,\n",
              "       251, 249, 247, 242, 252, 234, 254, 255, 256, 258, 257, 259, 253,\n",
              "       260, 261, 262, 263, 264, 265, 266, 267, 268, 269, 270, 271, 272,\n",
              "       273, 274, 275, 276, 278, 279, 277, 280, 281, 282, 283, 284, 285,\n",
              "       286, 287, 288, 289, 291, 292, 290, 294, 295, 293, 296, 297, 298,\n",
              "       303, 299, 302, 301, 300, 304, 306, 305, 307, 308, 309, 310, 311,\n",
              "       312, 315, 314, 317, 318, 316, 313, 319, 321, 320, 322, 325, 323,\n",
              "       324, 326, 327, 330, 332, 335, 333, 334, 338, 331, 336, 341, 340,\n",
              "       343, 342, 347, 346, 350, 349, 348, 356, 360, 355, 361, 362, 363,\n",
              "       364, 366, 378, 373, 372, 377, 375, 374, 370, 369, 376, 380, 379,\n",
              "       371, 368, 367, 365, 359, 358, 357, 354, 353, 352, 351, 345, 344,\n",
              "       339, 337, 389, 329, 328, 388, 387, 386, 385, 384, 383, 382, 381,\n",
              "       395, 394, 392, 393, 402, 398, 396, 399, 401, 397, 400, 403, 391,\n",
              "       390, 406, 405, 404, 407, 410, 428, 408, 411, 409, 432, 413, 414,\n",
              "       412, 430, 416, 415, 417, 418, 427, 425, 422, 419, 421, 431, 433,\n",
              "       429, 424, 423, 426, 434, 420, 435, 437, 439, 440, 438, 436, 441,\n",
              "       443, 442, 445, 444, 447, 446, 449, 450, 448, 451, 452, 453, 454,\n",
              "       455, 456, 458, 459, 461, 460, 457, 464, 465, 469, 468, 470, 489,\n",
              "       486, 481, 491, 487, 478, 477, 479, 483, 482, 484, 488, 492, 490,\n",
              "       485, 480, 476, 475, 472, 474, 473, 471, 467, 466, 463, 498, 462,\n",
              "       496, 497, 500, 499, 495, 494, 493, 501, 502, 503, 504, 509, 510,\n",
              "       508, 507, 506, 505, 512, 513, 514, 515, 511, 521, 526, 528, 518,\n",
              "       517, 523, 520, 527, 525, 524, 516, 519, 529, 522, 533, 535, 534,\n",
              "       531, 532, 530, 536, 537, 538, 539, 540, 543, 542, 541, 544, 545,\n",
              "       546, 548, 547, 549, 550, 551, 554, 552, 553, 555, 557, 558, 556,\n",
              "       560, 562, 561, 559, 563, 564, 565, 567, 568, 570, 571, 569, 573,\n",
              "       574, 577, 578, 579, 580, 581, 588, 592, 583, 584, 587, 597, 598,\n",
              "       594, 593, 595, 590, 589, 591, 586, 596, 585, 582, 576, 575, 572,\n",
              "       566, 605, 604, 599, 606, 607, 608, 601, 600, 602, 603, 612, 613,\n",
              "       611, 609, 610, 614, 615, 616, 617, 618, 619, 620, 622, 621, 623,\n",
              "       624, 625, 627, 626, 632, 639, 640, 638, 634, 633, 637, 630, 628,\n",
              "       642, 641, 635, 631, 636, 629, 643, 644, 645, 646, 651, 650, 652,\n",
              "       649, 648, 647, 653, 654, 655, 658, 656, 657, 659, 665, 664, 663,\n",
              "       661, 662, 660, 666, 667, 668, 669, 670, 671, 673, 672, 674, 678,\n",
              "       677, 676, 675, 680, 679, 681, 682, 683, 685, 684, 693, 692, 686,\n",
              "       687, 688, 689, 690, 694, 691, 695, 696, 699, 698, 697, 700, 701,\n",
              "       702, 703, 704, 706, 762, 761, 760, 759, 758, 757, 755, 756, 783,\n",
              "       754, 753, 752, 751, 750, 749, 748, 747, 764, 763, 776, 765, 775,\n",
              "       782, 781, 780, 779, 778, 777, 745, 774, 766, 773, 772, 771, 770,\n",
              "       769, 768, 767, 746, 732, 744, 725, 723, 722, 721, 720, 719, 718,\n",
              "       717, 716, 715, 714, 713, 712, 711, 710, 709, 743, 724, 726, 736,\n",
              "       742, 741, 740, 739, 738, 727, 737, 735, 734, 733, 731, 730, 729,\n",
              "       728, 784, 707, 708, 705])"
            ]
          },
          "metadata": {},
          "execution_count": 155
        }
      ]
    },
    {
      "cell_type": "code",
      "source": [
        "target = df['label']\n",
        "# Drop the label feature\n",
        "train = df.drop(\"label\",axis=1)"
      ],
      "metadata": {
        "id": "Ti0Fc8Ve2R2e"
      },
      "execution_count": null,
      "outputs": []
    },
    {
      "cell_type": "code",
      "source": [
        "from sklearn.preprocessing import StandardScaler\n",
        "X = train.values\n",
        "X_std = StandardScaler().fit_transform(X)"
      ],
      "metadata": {
        "id": "fA342sS14FkI"
      },
      "execution_count": null,
      "outputs": []
    },
    {
      "cell_type": "code",
      "source": [
        "eigenvalues = eigenvalues[idx]\n",
        "eigenvectors = eigenvectors[idx]"
      ],
      "metadata": {
        "id": "XdC6tBzt_ciV"
      },
      "execution_count": null,
      "outputs": []
    },
    {
      "cell_type": "code",
      "source": [
        "print(eigenvalues.shape)\n",
        "print(eigenvectors.shape)"
      ],
      "metadata": {
        "colab": {
          "base_uri": "https://localhost:8080/"
        },
        "id": "Xay9nhM-_hM0",
        "outputId": "577e31e1-0d03-4c07-a9c5-9ea8d06be345"
      },
      "execution_count": null,
      "outputs": [
        {
          "output_type": "stream",
          "name": "stdout",
          "text": [
            "(785,)\n",
            "(785, 785)\n"
          ]
        }
      ]
    },
    {
      "cell_type": "code",
      "source": [
        "eigenvalues[:3]"
      ],
      "metadata": {
        "colab": {
          "base_uri": "https://localhost:8080/"
        },
        "id": "sU6SfvOQ_lLE",
        "outputId": "ffa22e8d-babe-437e-dea3-f2dce7699416"
      },
      "execution_count": null,
      "outputs": [
        {
          "output_type": "execute_result",
          "data": {
            "text/plain": [
              "array([334780.80699535+0.j, 245887.07746082+0.j, 211051.67963459+0.j])"
            ]
          },
          "metadata": {},
          "execution_count": 160
        }
      ]
    },
    {
      "cell_type": "code",
      "source": [
        "eigenvectors[:3]"
      ],
      "metadata": {
        "colab": {
          "base_uri": "https://localhost:8080/"
        },
        "id": "HuDVCzvh_2HL",
        "outputId": "516c4b0a-84e8-4c7c-858c-59164c229493"
      },
      "execution_count": null,
      "outputs": [
        {
          "output_type": "execute_result",
          "data": {
            "text/plain": [
              "array([[0.00080233+0.j, 0.00286081+0.j, 0.00049945+0.j, ...,\n",
              "        0.        +0.j, 0.        +0.j, 0.        +0.j],\n",
              "       [0.        +0.j, 0.        +0.j, 0.        +0.j, ...,\n",
              "        0.        +0.j, 0.        +0.j, 0.        +0.j],\n",
              "       [0.        +0.j, 0.        +0.j, 0.        +0.j, ...,\n",
              "        0.        +0.j, 0.        +0.j, 0.        +0.j]])"
            ]
          },
          "metadata": {},
          "execution_count": 161
        }
      ]
    },
    {
      "cell_type": "code",
      "source": [
        "variance_explained=[]\n",
        "for i in eigenvalues:\n",
        "  variance_explained.append((i/sum(eigenvalues))*100)"
      ],
      "metadata": {
        "id": "38UcCacwAHM6"
      },
      "execution_count": null,
      "outputs": []
    },
    {
      "cell_type": "code",
      "source": [
        "print(variance_explained)"
      ],
      "metadata": {
        "colab": {
          "base_uri": "https://localhost:8080/"
        },
        "id": "jtaafvx2AMOw",
        "outputId": "fb3a03c0-fe41-4ecc-93bd-9ee076b528e4"
      },
      "execution_count": null,
      "outputs": [
        {
          "output_type": "stream",
          "name": "stdout",
          "text": [
            "[(9.74892029123122+0j), (7.1603074869303205+0j), (6.1458899647035565+0j), (5.379295124644153+0j), (4.894276712660098+0j), (4.303204756761393+0j), (3.2770428108188976+0j), (2.8920970858915784+0j), (2.766895656288452+0j), (2.348866958426939+0j), (2.0993204360766233+0j), (2.0589986694196987+0j), (1.702555744344033+0j), (1.692783116785315+0j), (1.5811248760672885+0j), (1.483236203597425+0j), (1.319688867359878+0j), (1.2827240653224592+0j), (1.1879735279693886+0j), (1.1527543720103377+0j), (1.072188875129529+0j), (1.0151968897020693+0j), (0.9649032312773069+0j), (0.9128438642938013+0j), (0.8876387083447181+0j), (0.8387650348927845+0j), (0.8118558322984822+0j), (0.7774045406253361+0j), (0.7406337673350719+0j), (0.686659897969969+0j), (0.6579806598353085+0j), (0.6387982739282572+0j), (0.5993655622986374+0j), (0.5889127946254821+0j), (0.5643338096012042+0j), (0.5409658714817792+0j), (0.5092209273702188+0j), (0.48750380376651536+0j), (0.4755682676195436+0j), (0.46654359148195457+0j), (0.452951935926068+0j), (0.44498846713220297+0j), (0.4182547038624808+0j), (0.3975054002271783+0j), (0.38454130061853364+0j), (0.37491856840915383+0j), (0.36101327097582847+0j), (0.3485214218672576+0j), (0.3364872657977447+0j), (0.3207374384639806+0j), (0.31546662320654095+0j), (0.30914479200810324+0j), (0.2937084811305578+0j), (0.28654072626039295+0j), (0.2807591564754553+0j), (0.2696179859526649+0j), (0.2658307643693083+0j), (0.25629808777500307+0j), (0.25382047694810994+0j), (0.24617832667140765+0j), (0.23971561144265208+0j), (0.23873917730298774+0j), (0.22759092542617232+0j), (0.22151810533667543+0j), (0.21393322485538627+0j), (0.20613315647089908+0j), (0.20285073647201987+0j), (0.19597632240767665+0j), (0.19363814379698666+0j), (0.18848488561553708+0j), (0.18675060030306684+0j), (0.18167009569206305+0j), (0.17689146889315296+0j), (0.1725920361330585+0j), (0.1661205034733674+0j), (0.16330914778696612+0j), (0.1606009577438817+0j), (0.15447205438570108+0j), (0.14684985485563198+0j), (0.14237576882658878+0j), (0.1410983495130231+0j), (0.1402281614523197+0j), (0.1388344845164081+0j), (0.13541701101619052+0j), (0.1323069784603612+0j), (0.1307795994886095+0j), (0.12967348799890732+0j), (0.12424017523814869+0j), (0.12224893580676371+0j), (0.11962416784640918+0j), (0.11584021165170258+0j), (0.11385871642429102+0j), (0.11226329689577168+0j), (0.1104748950262368+0j), (0.10813283612724289+0j), (0.10741239080886182+0j), (0.10386565882826544+0j), (0.10332175860915528+0j), (0.1014944514649365+0j), (0.09999646421511842+0j), (0.09748166473516309+0j), (0.09450578661937835+0j), (0.09386411035362645+0j), (0.09122188668244814+0j), (0.09073113897412534+0j), (0.08888695863680826+0j), (0.08636988691364351+0j), (0.08442330006081605+0j), (0.08355398266965822+0j), (0.08166500891921058+0j), (0.07876800064231+0j), (0.07815581719777998+0j), (0.0777462918944259+0j), (0.07719319518962674+0j), (0.07578417763863919+0j), (0.07502155207867156+0j), (0.07344747467009353+0j), (0.07257708427203878+0j), (0.0715320947554368+0j), (0.07003234624277291+0j), (0.06930481958865456+0j), (0.06857396094336206+0j), (0.0679931954009031+0j), (0.06657170694119632+0j), (0.06561390315797465+0j), (0.06448002280075257+0j), (0.0635390592016887+0j), (0.06261234021879403+0j), (0.06185172706701982+0j), (0.06057413156593468+0j), (0.06038538514952293+0j), (0.05914517602675777+0j), (0.05858979277039261+0j), (0.05846319234050442+0j), (0.0575480579088672+0j), (0.05697191344352397+0j), (0.05644957965461039+0j), (0.05531737240896557+0j), (0.05343437209591043+0j), (0.05257762696528837+0j), (0.05219647162080496+0j), (0.051119251562535765+0j), (0.05051436280956343+0j), (0.04999237837288938+0j), (0.04953230306879538+0j), (0.049234786350068845+0j), (0.04843942936697469+0j), (0.04766852355132185+0j), (0.047466517369235774+0j), (0.046788980397631276+0j), (0.046529618208640995+0j), (0.046136138975131184+0j), (0.04563355493997691+0j), (0.045175532638967716+0j), (0.0449487547829445+0j), (0.04413566066463451+0j), (0.043878910157675796+0j), (0.04243889429445581+0j), (0.04203139275370404+0j), (0.0416354632715136+0j), (0.04138293211761972+0j), (0.04070983597922435+0j), (0.03985474009287346+0j), (0.039435902861180865+0j), (0.039406966925336885+0j), (0.03914013251165481+0j), (0.03816649515770902+0j), (0.03792300799651985+0j), (0.03755354024241769+0j), (0.037383082674288914+0j), (0.036633688435704644+0j), (0.036307325614959716+0j), (0.03593069008652419+0j), (0.03570312216992092+0j), (0.03530278802827291+0j), (0.035275416457097676+0j), (0.03453029694248846+0j), (0.0343278079092903+0j), (0.03418901476292457+0j), (0.03391682687080909+0j), (0.03348608396630838+0j), (0.03298443952124854+0j), (0.032550736206812515+0j), (0.032470421990940336+0j), (0.032101310852416964+0j), (0.03204321355700855+0j), (0.03171939295313528+0j), (0.03168191729469538+0j), (0.03109158618181464+0j), (0.031017280594354123+0j), (0.03068323058344972+0j), (0.030382248396982735+0j), (0.029970857296229645+0j), (0.029832641054344706+0j), (0.02940928458705754+0j), (0.029339156859039688+0j), (0.029297662531636414+0j), (0.028927579168904947+0j), (0.02849882859250798+0j), (0.02836965638572205+0j), (0.028108176841697086+0j), (0.02762577533671651+0j), (0.02741038017476138+0j), (0.027160142099338345+0j), (0.02675219769562658+0j), (0.026679334307835673+0j), (0.026289170058190647+0j), (0.02620460692464019+0j), (0.026148674571384155+0j), (0.025825302511801335+0j), (0.02566033533878878+0j), (0.025538683496849426+0j), (0.025411111879766128+0j), (0.025281384462842824+0j), (0.025091189881700202+0j), (0.024828588370231774+0j), (0.024761549415713142+0j), (0.024446090056958792+0j), (0.024328631326116196+0j), (0.024099189303661152+0j), (0.024027537004029452+0j), (0.023936389591422434+0j), (0.023859407725790458+0j), (0.023646549068500597+0j), (0.02320570920418694+0j), (0.023098698657696266+0j), (0.0228982176810487+0j), (0.022728648782822276+0j), (0.022596663097516435+0j), (0.02247814181190582+0j), (0.022097776416344292+0j), (0.021945277582141338+0j), (0.021738437893437032+0j), (0.02159274610330327+0j), (0.0214950694795137+0j), (0.021361462173993352+0j), (0.02114879540605501+0j), (0.02108641272882691+0j), (0.02081130363377346+0j), (0.02051707149184784+0j), (0.020374573977150846+0j), (0.020327151089108337+0j), (0.02017839929321864+0j), (0.01996663575840668+0j), (0.019798410932091032+0j), (0.01968063962814772+0j), (0.019481675405053737+0j), (0.01937172477706245+0j), (0.019266649277420826+0j), (0.0192126081345298+0j), (0.019024945299021816+0j), (0.0188388472867326+0j), (0.01868304195639229+0j), (0.01849892911036862+0j), (0.01846958623456141+0j), (0.018410073733036637+0j), (0.018278766372443328+0j), (0.018232316690887877+0j), (0.018139177204983998+0j), (0.0179612598584256+0j), (0.017671037404391046+0j), (0.017561592940516315+0j), (0.017485618373129584+0j), (0.017348331686747525+0j), (0.017252371902266233+0j), (0.017147617605809445+0j), (0.01711329543795389+0j), (0.01687730106217566+0j), (0.016813295713690394+0j), (0.016769236962880834+0j), (0.01662680733632702+0j), (0.016429332297889915+0j), (0.01639023217252815+0j), (0.016302575676762885+0j), (0.016224705051924897+0j), (0.01604340016341832+0j), (0.01602751539190358+0j), (0.01588473927446438+0j), (0.015839096394465024+0j), (0.01572489589809794+0j), (0.015542093691662184+0j), (0.015444908801352176+0j), (0.015362608199796155+0j), (0.015183283191622364+0j), (0.015088231796165497+0j), (0.015040195957730316+0j), (0.014903733579506874+0j), (0.01482890467734054+0j), (0.014669796059610201+0j), (0.014591779969666662+0j), (0.014347007524523683+0j), (0.014341344528899291+0j), (0.014294704476625696+0j), (0.014186368809320678+0j), (0.01414341347937298+0j), (0.014032211024746203+0j), (0.013834231046775853+0j), (0.013744690451003452+0j), (0.013637830012988066+0j), (0.013545015854554986+0j), (0.013515968201459942+0j), (0.013440376028728876+0j), (0.013339805563324772+0j), (0.013228676046798862+0j), (0.01307525590017027+0j), (0.012989035948571351+0j), (0.01285351460829374+0j), (0.012784864464651156+0j), (0.012697462634308349+0j), (0.012660819971159244+0j), (0.012588365170089518+0j), (0.01251523953563221+0j), (0.012402681619162588+0j), (0.012254122343068784+0j), (0.012232335379464894+0j), (0.01211846184011743+0j), (0.012086586353958512+0j), (0.012008154333118781+0j), (0.011901626141153561+0j), (0.011823761137958503+0j), (0.011723411082224543+0j), (0.011574134526227551+0j), (0.011536008845122169+0j), (0.011456028674958832+0j), (0.011362651327044525+0j), (0.011318550893669288+0j), (0.011175557222583793+0j), (0.011029381005079896+0j), (0.01099608861649512+0j), (0.010934966846850502+0j), (0.010917652858631229+0j), (0.010847725379907143+0j), (0.01077972699063635+0j), (0.010691720636831725+0j), (0.010672328427131703+0j), (0.010607847290536725+0j), (0.0104464208203024+0j), (0.010439598955143651+0j), (0.010306893693197835+0j), (0.01022146707625851+0j), (0.010137064180237318+0j), (0.010059439236713241+0j), (0.009976665237405702+0j), (0.00994404604249091+0j), (0.00985827073378676+0j), (0.009701575800508167+0j), (0.009697821249165248+0j), (0.00962935881867886+0j), (0.009461076281648351+0j), (0.009412829741714309+0j), (0.009304389270512992+0j), (0.009257196800092139+0j), (0.009158087727016866+0j), (0.009107906473297645+0j), (0.009050161546454067+0j), (0.00900299562575482+0j), (0.008961534977134351+0j), (0.008898141971615259+0j), (0.00883198079521267+0j), (0.00875295247813462+0j), (0.008712536684098415+0j), (0.008589754907540083+0j), (0.00850482089442295+0j), (0.008504004541736158+0j), (0.008463645622081108+0j), (0.008383037575129119+0j), (0.008273159732956156+0j), (0.008250508871426445+0j), (0.008216044637010953+0j), (0.008085837813652687+0j), (0.007970885509735381+0j), (0.007900233340587653+0j), (0.007838132544030332+0j), (0.007803750551280901+0j), (0.007745404476470397+0j), (0.007660369441444496+0j), (0.007575134376235836+0j), (0.007493074508173122+0j), (0.00742331249872425+0j), (0.007317584303482887+0j), (0.007300801094660081+0j), (0.0072545219131680255+0j), (0.007224451106455854+0j), (0.007175421615120588+0j), (0.007127847937061238+0j), (0.006954887977727065+0j), (0.006919495756123131+0j), (0.006855442290665849+0j), (0.006786161078154466+0j), (0.006702172372991537+0j), (0.006649524924042755+0j), (0.006584327448891297+0j), (0.006500531618005954+0j), (0.006388365406950187+0j), (0.006290798922689886+0j), (0.006266925615488967+0j), (0.006131397591090731+0j), (0.00607607595831898+0j), (0.006027275191859372+0j), (0.005948498080887964+0j), (0.005879959873006638+0j), (0.005826182521789025+0j), (0.005775374383471895+0j), (0.005750257797466411+0j), (0.005627268894928558+0j), (0.005609286990163449+0j), (0.0054994487088477016+0j), (0.005446255586552818+0j), (0.0053958105084451384+0j), (0.00538259499437434+0j), (0.005313095943715177+0j), (0.005275914553061065+0j), (0.005219724673663094+0j), (0.005137430696843799+0j), (0.00512553406696025+0j), (0.005064774566440936+0j), (0.00500844290098587+0j), (0.004935007763644834+0j), (0.004926483483674847+0j), (0.004826118266144952+0j), (0.004721421109821651+0j), (0.00468473486984378+0j), (0.004611506663581162+0j), (0.004594413626333186+0j), (0.004558175838963747+0j), (0.004437117569967269+0j), (0.00436167862554733+0j), (0.004291438378251242+0j), (0.004260103930051887+0j), (0.0042429530168874114+0j), (0.004182061677326323+0j), (0.004111436912889412+0j), (0.004049877006021912+0j), (0.004040287337164356+0j), (0.00401015053199098+0j), (0.0038370289225377486+0j), (0.003791698730453664+0j), (0.003767524403623204+0j), (0.003748128227762161+0j), (0.0037208083093014342+0j), (0.0036489649135512483+0j), (0.003608655140495272+0j), (0.00353089726148977+0j), (0.0035134878094618947+0j), (0.0034765475935131574+0j), (0.003443350138436183+0j), (0.0034020295211810003+0j), (0.003372435979945938+0j), (0.0033209285618534695+0j), (0.003312077013257196+0j), (0.0032141212206884427+0j), (0.0031556625601943146+0j), (0.0031296648878830734+0j), (0.0030821716820452994+0j), (0.003015717979866158+0j), (0.0029820047030179497+0j), (0.0029447616528430337+0j), (0.0029089528793244074+0j), (0.0028889230076647337+0j), (0.0028442584913045315+0j), (0.0028259358915171894+0j), (0.002789680039284703+0j), (0.0026892154666822367+0j), (0.002668278398265126+0j), (0.002562379348517806+0j), (0.0025568124084936355+0j), (0.0025409171049771266+0j), (0.0024828098420945515+0j), (0.0024735543754092833+0j), (0.0024380764757059355+0j), (0.0024238210514654726+0j), (0.0024033042222352005+0j), (0.0023618045679950194+0j), (0.0023058371427099817+0j), (0.0022679410223855885+0j), (0.002236835543789011+0j), (0.002177239595357025+0j), (0.002137994300356189+0j), (0.0021215330576260707+0j), (0.0021115249932353868+0j), (0.0020785101982445965+0j), (0.0020647727611413204+0j), (0.002031183854851747+0j), (0.001996142808451659+0j), (0.0019783502047495067+0j), (0.0019476074561438016+0j), (0.0018906590587979503+0j), (0.001884578593618041+0j), (0.0018558100389768745+0j), (0.0018178680771439894+0j), (0.0017886546248290318+0j), (0.001771077753906123+0j), (0.0017430359994196909+0j), (0.0017251676543216083+0j), (0.0016113956823491959+0j), (0.0015808267838570216+0j), (0.0015694575232360658+0j), (0.0015659396512739676+0j), (0.001529317771705039+0j), (0.001518181561459698+0j), (0.0015008987597990705+0j), (0.0014744087174134181+0j), (0.001445963204082212+0j), (0.001430036965791198+0j), (0.001420524558494198+0j), (0.001389313393692418+0j), (0.001385692532823657+0j), (0.0013679249482429514+0j), (0.0013410356943752999+0j), (0.0013247940336473562+0j), (0.001316659276207612+0j), (0.0012521627310704121+0j), (0.0012330759948287339+0j), (0.0012314281605521438+0j), (0.0012239197500420664+0j), (0.001184708174049823+0j), (0.0011658229469330564+0j), (0.001163006762778453+0j), (0.001159090124602342+0j), (0.0011467874001011833+0j), (0.0011072913491017328+0j), (0.0010929416460156544+0j), (0.001065814730944194+0j), (0.0010448570011646755+0j), (0.0010373440727310692+0j), (0.001030389929093987+0j), (0.000985827552403746+0j), (0.0009499824764634824+0j), (0.0009298687767528203+0j), (0.000918569090284496+0j), (0.0009065317627623131+0j), (0.0008974442412058464+0j), (0.0008915233647494329+0j), (0.0008572575987214413+0j), (0.0008510393574139972+0j), (0.0008189107876662384+0j), (0.0008002609089455754+0j), (0.0007904835371356262+0j), (0.0007718639536007254+0j), (0.0007670224528885077+0j), (0.0007449650933259681+0j), (0.0007398001548140471+0j), (0.0007277315342109718+0j), (0.0007054088799409309+0j), (0.0006939777354639823+0j), (0.0006685938155324126+0j), (0.0006627648768187651+0j), (0.0006476087206223222+0j), (0.0006440522210406173+0j), (0.0006081986762324822+0j), (0.0006023939450046028+0j), (0.0005835600583345485+0j), (0.0005662924039189622+0j), (0.0005539067746246022+0j), (0.0005439405476746352+0j), (0.000533622154629765+0j), (0.0005203583821601873+0j), (0.0005179641997456519+0j), (0.0005104468565178168+0j), (0.0005008234105216345+0j), (0.000492762382368171+0j), (0.00048011316590083094+0j), (0.00047551187023145463+0j), (0.0004539290728188234+0j), (0.00043593210732109785+0j), (0.00042836746762151906+0j), (0.0004211788938409333+0j), (0.0004048737866747685+0j), (0.0003997208937658924+0j), (0.000397306055951941+0j), (0.00038327168392953965+0j), (0.0003813057218241772+0j), (0.00037796864539376627+0j), (0.0003556914760910804+0j), (0.0003409435746058798+0j), (0.00033726005892867285+0j), (0.00032666931423543105+0j), (0.0003122044601398277+0j), (0.00030495270563797225+0j), (0.000303882930383942+0j), (0.00029871856112021736+0j), (0.00028304875801587033+0j), (0.0002709137499824758+0j), (0.0002664799040020821+0j), (0.00026183946226859795+0j), (0.00026062422667026843+0j), (0.0002544485038596576+0j), (0.000251639859713482+0j), (0.0002449580543687181+0j), (0.00023688703362437718+0j), (0.00023110014531496398+0j), (0.00022650607253282313+0j), (0.00022346966111757777+0j), (0.00021971132966410307+0j), (0.00021373441354781273+0j), (0.00020584968198609225+0j), (0.00019499578662812657+0j), (0.00018767901141718467+0j), (0.00017830441368877736+0j), (0.00017623755383692582+0j), (0.0001757547100682784+0j), (0.00016533825076266983+0j), (0.00016077989085444476+0j), (0.00015911733064955143+0j), (0.0001574522440193876+0j), (0.000148019106492041+0j), (0.00014347800997295757+0j), (0.00013929664497016564+0j), (0.0001382937292852916+0j), (0.00012825277670758774+0j), (0.00012785750737231047+0j), (0.0001239308894165196+0j), (0.00012069936589227972+0j), (0.00011815186093479225+0j), (0.00011359635448061897+0j), (0.00010829406221447733+0j), (0.00010656590820763848+0j), (0.00010041216082258386+0j), (9.464838945559732e-05+0j), (9.26648766755496e-05+0j), (9.153549297278873e-05+0j), (8.723557923385125e-05+0j), (8.600428958089724e-05+0j), (8.362910491545079e-05+0j), (8.274027623926306e-05+0j), (7.992006000433785e-05+0j), (7.82775858249056e-05+0j), (7.656329264132214e-05+0j), (7.181131626255986e-05+0j), (6.984766311556052e-05+0j), (6.954574801849473e-05+0j), (6.91632907869816e-05+0j), (6.532507873568819e-05+0j), (6.380496867714062e-05+0j), (6.208004640130056e-05+0j), (6.0009709009254235e-05+0j), (5.5451010587559477e-05+0j), (5.4415935224591603e-05+0j), (5.194308157589808e-05+0j), (5.110502191428271e-05+0j), (4.956214348113631e-05+0j), (4.899811516504923e-05+0j), (4.818994207907784e-05+0j), (3.796984631115152e-05+0j), (3.7218820360943966e-05+0j), (3.627565552938095e-05+0j), (3.529384317363438e-05+0j), (3.238293897124631e-05+0j), (3.234978369096065e-05+0j), (3.174202087310608e-05+0j), (3.0687071821644544e-05+0j), (3.002286997939752e-05+0j), (2.814420271741432e-05+0j), (2.4853124483156246e-05+0j), (2.4576112462471396e-05+0j), (2.3391057653219906e-05+0j), (2.302425165203438e-05+0j), (2.190174932548264e-05+0j), (2.056192523177611e-05+0j), (1.9765832046800458e-05+0j), (1.898089616043008e-05+0j), (1.8939918053231332e-05+0j), (1.8607097142948003e-05+0j), (1.7532006406386165e-05+0j), (1.709144654741126e-05+0j), (1.651985487628401e-05+0j), (1.1230255896072875e-05+0j), (1.0965419522690276e-05+0j), (9.0654620372939e-06+0j), (8.727727471892399e-06+0j), (7.5025443978378805e-06+0j), (7.480392654441325e-06+0j), (6.891292272970905e-06+0j), (6.814342627382457e-06+0j), (5.1481841947082425e-06+0j), (4.803256798994666e-06+0j), (4.6095035409641795e-06+0j), (4.270712191323561e-06+0j), (3.9392070671048235e-06+0j), (3.8019808031515703e-06+0j), (3.237629371699146e-06+0j), (2.351683205671731e-06+0j), (2.213834835075874e-06+0j), (2.0683259049283122e-06+0j), (1.971334325206102e-06+0j), (1.933743494381637e-06+0j), (1.7627144190303818e-06+0j), (1.709602194195088e-06+0j), (1.5196129599895783e-06+0j), (1.3169976809419886e-06+0j), (1.1815605029983417e-06+0j), (9.80656987290778e-07+0j), (7.425406978492013e-07+0j), (7.075423471232115e-07+0j), (5.75567081474297e-07+0j), (3.812480327287784e-07+0j), (3.309523429179684e-07+0j), (2.0126841573687303e-07+0j), (1.8570078593974774e-07+0j), (8.673932369846362e-08+0j), (1.6230774237200528e-08+0j), (1.064133166938574e-08+0j), (8.869167548178669e-09+0j), (1.7577550823333367e-09+0j), (1.6014846600923826e-09+0j), (2.163359591285713e-18+0j), 0j, 0j, 0j, 0j, 0j, 0j, 0j, 0j, 0j, 0j, 0j, 0j, 0j, 0j, 0j, 0j, 0j, 0j, 0j, 0j, 0j, 0j, 0j, 0j, 0j, 0j, 0j, 0j, 0j, 0j, 0j, 0j, 0j, 0j, 0j, 0j, 0j, 0j, 0j, 0j, 0j, 0j, 0j, 0j, 0j, 0j, 0j, 0j, 0j, 0j, 0j, 0j, 0j, 0j, 0j, 0j, 0j, 0j, 0j, 0j, 0j, 0j, 0j, 0j, 0j, 0j, 0j, 0j, 0j, 0j, 0j, 0j, 0j, 0j, 0j, 0j, (-8.245273691293212e-21+1.2459240188124153e-20j), (-8.245273691293212e-21-1.2459240188124153e-20j), (-1.5303086163699963e-17+0j)]\n"
          ]
        }
      ]
    },
    {
      "cell_type": "code",
      "source": [
        "cumulative_variance_explained = np.cumsum(variance_explained)\n",
        "print(cumulative_variance_explained[:1])"
      ],
      "metadata": {
        "colab": {
          "base_uri": "https://localhost:8080/"
        },
        "id": "0bPVh_08BJN2",
        "outputId": "4610c3a5-677e-4992-fc86-db77bdf87cdf"
      },
      "execution_count": null,
      "outputs": [
        {
          "output_type": "stream",
          "name": "stdout",
          "text": [
            "[9.74892029+0.j]\n"
          ]
        }
      ]
    },
    {
      "cell_type": "code",
      "source": [
        "plt.plot(cumulative_variance_explained)\n",
        "plt.ylim([80,101])\n",
        "plt.grid()\n",
        "plt.xlabel(\"Number of components\")\n",
        "plt.ylabel(\"Cumulative explained variance\")\n",
        "plt.title(\"Explained variance vs Number of components\")"
      ],
      "metadata": {
        "colab": {
          "base_uri": "https://localhost:8080/",
          "height": 404
        },
        "id": "Ipy2zU9wB6ca",
        "outputId": "d0f1e140-bef2-4ce8-8614-386e385918b0"
      },
      "execution_count": null,
      "outputs": [
        {
          "output_type": "stream",
          "name": "stderr",
          "text": [
            "/usr/local/lib/python3.8/dist-packages/matplotlib/cbook/__init__.py:1317: ComplexWarning:\n",
            "\n",
            "Casting complex values to real discards the imaginary part\n",
            "\n"
          ]
        },
        {
          "output_type": "execute_result",
          "data": {
            "text/plain": [
              "Text(0.5, 1.0, 'Explained variance vs Number of components')"
            ]
          },
          "metadata": {},
          "execution_count": 165
        },
        {
          "output_type": "display_data",
          "data": {
            "text/plain": [
              "<Figure size 432x288 with 1 Axes>"
            ],
            "image/png": "[encoded data removed]"
          },
          "metadata": {
            "needs_background": "light"
          }
        }
      ]
    },
    {
      "cell_type": "code",
      "source": [
        "digit = np.linalg.inv(eigenvectors) @ df.T\n",
        "digit = pd.DataFrame(digit.T)\n",
        "digit.head()"
      ],
      "metadata": {
        "colab": {
          "base_uri": "https://localhost:8080/",
          "height": 369
        },
        "id": "EsVY1PNJFUAh",
        "outputId": "d7227d14-872a-4edb-8efd-93475e2d852f"
      },
      "execution_count": null,
      "outputs": [
        {
          "output_type": "execute_result",
          "data": {
            "text/plain": [
              "                     0                     1                     2    \\\n",
              "0  -319.704239+0.000000j -312.929922-0.000000j -335.889812-0.000000j   \n",
              "1 -1920.596994-0.000000j -376.042527+0.000000j  197.359038+0.000000j   \n",
              "2  -194.350189+0.000000j -106.010694-0.000000j -3.4276150-0.0000000j   \n",
              "3  -375.985585-0.000000j  9.3600620-0.0000000j  -69.810645-0.000000j   \n",
              "4 -2007.715802-0.000000j -404.143528+0.000000j  105.307148+0.000000j   \n",
              "\n",
              "                    3                      4                     5    \\\n",
              "0 -381.293002-0.000000j   415.968623-0.000000j -357.401326-0.000000j   \n",
              "1 -282.270008-0.000000j   982.101723+0.000000j -456.420275+0.000000j   \n",
              "2 -167.526504-0.000000j   393.412751-0.000000j  157.338021-0.000000j   \n",
              "3  161.999116+0.000000j   344.960422-0.000000j -263.565764+0.000000j   \n",
              "4 -434.989002+0.000000j  1043.564328+0.000000j -585.906557+0.000000j   \n",
              "\n",
              "                    6                     7                     8    \\\n",
              "0  -30.988032+0.000000j -177.249076+0.000000j  489.884215+0.000000j   \n",
              "1  876.291429-0.000000j  208.602176-0.000000j  380.635503-0.000000j   \n",
              "2  530.305603+0.000000j  131.177805+0.000000j  189.880645+0.000000j   \n",
              "3  264.959672-0.000000j  -33.718185-0.000000j  382.131523-0.000000j   \n",
              "4  941.996801-0.000000j   57.663496-0.000000j  412.416207-0.000000j   \n",
              "\n",
              "                    9    ...       775       776       777       778  \\\n",
              "0 -242.129843+0.000000j  ...  0.0+0.0j  0.0+0.0j  0.0+0.0j  0.0+0.0j   \n",
              "1  -53.579699-0.000000j  ...  0.0+0.0j  0.0+0.0j  0.0+0.0j  0.0+0.0j   \n",
              "2 -145.776409+0.000000j  ...  0.0+0.0j  0.0+0.0j  0.0+0.0j  0.0+0.0j   \n",
              "3  -38.117176-0.000000j  ...  0.0+0.0j  0.0+0.0j  0.0+0.0j  0.0+0.0j   \n",
              "4   20.612149-0.000000j  ...  0.0+0.0j  0.0+0.0j  0.0+0.0j  0.0+0.0j   \n",
              "\n",
              "        779       780       781       782       783       784  \n",
              "0  0.0+0.0j  0.0+0.0j  0.0+0.0j  0.0+0.0j  0.0+0.0j  0.0+0.0j  \n",
              "1  0.0+0.0j  0.0+0.0j  0.0+0.0j  0.0+0.0j  0.0+0.0j  0.0+0.0j  \n",
              "2  0.0+0.0j  0.0+0.0j  0.0+0.0j  0.0+0.0j  0.0+0.0j  0.0+0.0j  \n",
              "3  0.0+0.0j  0.0+0.0j  0.0+0.0j  0.0+0.0j  0.0+0.0j  0.0+0.0j  \n",
              "4  0.0+0.0j  0.0+0.0j  0.0+0.0j  0.0+0.0j  0.0+0.0j  0.0+0.0j  \n",
              "\n",
              "[5 rows x 785 columns]"
            ],
            "text/html": [
              "\n",
              "  <div id=\"df-94122bc3-b085-4025-99c8-38a39a2de2c7\">\n",
              "    <div class=\"colab-df-container\">\n",
              "      <div>\n",
              "<style scoped>\n",
              "    .dataframe tbody tr th:only-of-type {\n",
              "        vertical-align: middle;\n",
              "    }\n",
              "\n",
              "    .dataframe tbody tr th {\n",
              "        vertical-align: top;\n",
              "    }\n",
              "\n",
              "    .dataframe thead th {\n",
              "        text-align: right;\n",
              "    }\n",
              "</style>\n",
              "<table border=\"1\" class=\"dataframe\">\n",
              "  <thead>\n",
              "    <tr style=\"text-align: right;\">\n",
              "      <th></th>\n",
              "      <th>0</th>\n",
              "      <th>1</th>\n",
              "      <th>2</th>\n",
              "      <th>3</th>\n",
              "      <th>4</th>\n",
              "      <th>5</th>\n",
              "      <th>6</th>\n",
              "      <th>7</th>\n",
              "      <th>8</th>\n",
              "      <th>9</th>\n",
              "      <th>...</th>\n",
              "      <th>775</th>\n",
              "      <th>776</th>\n",
              "      <th>777</th>\n",
              "      <th>778</th>\n",
              "      <th>779</th>\n",
              "      <th>780</th>\n",
              "      <th>781</th>\n",
              "      <th>782</th>\n",
              "      <th>783</th>\n",
              "      <th>784</th>\n",
              "    </tr>\n",
              "  </thead>\n",
              "  <tbody>\n",
              "    <tr>\n",
              "      <th>0</th>\n",
              "      <td>-319.704239+0.000000j</td>\n",
              "      <td>-312.929922-0.000000j</td>\n",
              "      <td>-335.889812-0.000000j</td>\n",
              "      <td>-381.293002-0.000000j</td>\n",
              "      <td>415.968623-0.000000j</td>\n",
              "      <td>-357.401326-0.000000j</td>\n",
              "      <td>-30.988032+0.000000j</td>\n",
              "      <td>-177.249076+0.000000j</td>\n",
              "      <td>489.884215+0.000000j</td>\n",
              "      <td>-242.129843+0.000000j</td>\n",
              "      <td>...</td>\n",
              "      <td>0.0+0.0j</td>\n",
              "      <td>0.0+0.0j</td>\n",
              "      <td>0.0+0.0j</td>\n",
              "      <td>0.0+0.0j</td>\n",
              "      <td>0.0+0.0j</td>\n",
              "      <td>0.0+0.0j</td>\n",
              "      <td>0.0+0.0j</td>\n",
              "      <td>0.0+0.0j</td>\n",
              "      <td>0.0+0.0j</td>\n",
              "      <td>0.0+0.0j</td>\n",
              "    </tr>\n",
              "    <tr>\n",
              "      <th>1</th>\n",
              "      <td>-1920.596994-0.000000j</td>\n",
              "      <td>-376.042527+0.000000j</td>\n",
              "      <td>197.359038+0.000000j</td>\n",
              "      <td>-282.270008-0.000000j</td>\n",
              "      <td>982.101723+0.000000j</td>\n",
              "      <td>-456.420275+0.000000j</td>\n",
              "      <td>876.291429-0.000000j</td>\n",
              "      <td>208.602176-0.000000j</td>\n",
              "      <td>380.635503-0.000000j</td>\n",
              "      <td>-53.579699-0.000000j</td>\n",
              "      <td>...</td>\n",
              "      <td>0.0+0.0j</td>\n",
              "      <td>0.0+0.0j</td>\n",
              "      <td>0.0+0.0j</td>\n",
              "      <td>0.0+0.0j</td>\n",
              "      <td>0.0+0.0j</td>\n",
              "      <td>0.0+0.0j</td>\n",
              "      <td>0.0+0.0j</td>\n",
              "      <td>0.0+0.0j</td>\n",
              "      <td>0.0+0.0j</td>\n",
              "      <td>0.0+0.0j</td>\n",
              "    </tr>\n",
              "    <tr>\n",
              "      <th>2</th>\n",
              "      <td>-194.350189+0.000000j</td>\n",
              "      <td>-106.010694-0.000000j</td>\n",
              "      <td>-3.4276150-0.0000000j</td>\n",
              "      <td>-167.526504-0.000000j</td>\n",
              "      <td>393.412751-0.000000j</td>\n",
              "      <td>157.338021-0.000000j</td>\n",
              "      <td>530.305603+0.000000j</td>\n",
              "      <td>131.177805+0.000000j</td>\n",
              "      <td>189.880645+0.000000j</td>\n",
              "      <td>-145.776409+0.000000j</td>\n",
              "      <td>...</td>\n",
              "      <td>0.0+0.0j</td>\n",
              "      <td>0.0+0.0j</td>\n",
              "      <td>0.0+0.0j</td>\n",
              "      <td>0.0+0.0j</td>\n",
              "      <td>0.0+0.0j</td>\n",
              "      <td>0.0+0.0j</td>\n",
              "      <td>0.0+0.0j</td>\n",
              "      <td>0.0+0.0j</td>\n",
              "      <td>0.0+0.0j</td>\n",
              "      <td>0.0+0.0j</td>\n",
              "    </tr>\n",
              "    <tr>\n",
              "      <th>3</th>\n",
              "      <td>-375.985585-0.000000j</td>\n",
              "      <td>9.3600620-0.0000000j</td>\n",
              "      <td>-69.810645-0.000000j</td>\n",
              "      <td>161.999116+0.000000j</td>\n",
              "      <td>344.960422-0.000000j</td>\n",
              "      <td>-263.565764+0.000000j</td>\n",
              "      <td>264.959672-0.000000j</td>\n",
              "      <td>-33.718185-0.000000j</td>\n",
              "      <td>382.131523-0.000000j</td>\n",
              "      <td>-38.117176-0.000000j</td>\n",
              "      <td>...</td>\n",
              "      <td>0.0+0.0j</td>\n",
              "      <td>0.0+0.0j</td>\n",
              "      <td>0.0+0.0j</td>\n",
              "      <td>0.0+0.0j</td>\n",
              "      <td>0.0+0.0j</td>\n",
              "      <td>0.0+0.0j</td>\n",
              "      <td>0.0+0.0j</td>\n",
              "      <td>0.0+0.0j</td>\n",
              "      <td>0.0+0.0j</td>\n",
              "      <td>0.0+0.0j</td>\n",
              "    </tr>\n",
              "    <tr>\n",
              "      <th>4</th>\n",
              "      <td>-2007.715802-0.000000j</td>\n",
              "      <td>-404.143528+0.000000j</td>\n",
              "      <td>105.307148+0.000000j</td>\n",
              "      <td>-434.989002+0.000000j</td>\n",
              "      <td>1043.564328+0.000000j</td>\n",
              "      <td>-585.906557+0.000000j</td>\n",
              "      <td>941.996801-0.000000j</td>\n",
              "      <td>57.663496-0.000000j</td>\n",
              "      <td>412.416207-0.000000j</td>\n",
              "      <td>20.612149-0.000000j</td>\n",
              "      <td>...</td>\n",
              "      <td>0.0+0.0j</td>\n",
              "      <td>0.0+0.0j</td>\n",
              "      <td>0.0+0.0j</td>\n",
              "      <td>0.0+0.0j</td>\n",
              "      <td>0.0+0.0j</td>\n",
              "      <td>0.0+0.0j</td>\n",
              "      <td>0.0+0.0j</td>\n",
              "      <td>0.0+0.0j</td>\n",
              "      <td>0.0+0.0j</td>\n",
              "      <td>0.0+0.0j</td>\n",
              "    </tr>\n",
              "  </tbody>\n",
              "</table>\n",
              "<p>5 rows × 785 columns</p>\n",
              "</div>\n",
              "      <button class=\"colab-df-convert\" onclick=\"convertToInteractive('df-94122bc3-b085-4025-99c8-38a39a2de2c7')\"\n",
              "              title=\"Convert this dataframe to an interactive table.\"\n",
              "              style=\"display:none;\">\n",
              "        \n",
              "  <svg xmlns=\"http://www.w3.org/2000/svg\" height=\"24px\"viewBox=\"0 0 24 24\"\n",
              "       width=\"24px\">\n",
              "    <path d=\"M0 0h24v24H0V0z\" fill=\"none\"/>\n",
              "    <path d=\"M18.56 5.44l.94 2.06.94-2.06 2.06-.94-2.06-.94-.94-2.06-.94 2.06-2.06.94zm-11 1L8.5 8.5l.94-2.06 2.06-.94-2.06-.94L8.5 2.5l-.94 2.06-2.06.94zm10 10l.94 2.06.94-2.06 2.06-.94-2.06-.94-.94-2.06-.94 2.06-2.06.94z\"/><path d=\"M17.41 7.96l-1.37-1.37c-.4-.4-.92-.59-1.43-.59-.52 0-1.04.2-1.43.59L10.3 9.45l-7.72 7.72c-.78.78-.78 2.05 0 2.83L4 21.41c.39.39.9.59 1.41.59.51 0 1.02-.2 1.41-.59l7.78-7.78 2.81-2.81c.8-.78.8-2.07 0-2.86zM5.41 20L4 18.59l7.72-7.72 1.47 1.35L5.41 20z\"/>\n",
              "  </svg>\n",
              "      </button>\n",
              "      \n",
              "  <style>\n",
              "    .colab-df-container {\n",
              "      display:flex;\n",
              "      flex-wrap:wrap;\n",
              "      gap: 12px;\n",
              "    }\n",
              "\n",
              "    .colab-df-convert {\n",
              "      background-color: #E8F0FE;\n",
              "      border: none;\n",
              "      border-radius: 50%;\n",
              "      cursor: pointer;\n",
              "      display: none;\n",
              "      fill: #1967D2;\n",
              "      height: 32px;\n",
              "      padding: 0 0 0 0;\n",
              "      width: 32px;\n",
              "    }\n",
              "\n",
              "    .colab-df-convert:hover {\n",
              "      background-color: #E2EBFA;\n",
              "      box-shadow: 0px 1px 2px rgba(60, 64, 67, 0.3), 0px 1px 3px 1px rgba(60, 64, 67, 0.15);\n",
              "      fill: #174EA6;\n",
              "    }\n",
              "\n",
              "    [theme=dark] .colab-df-convert {\n",
              "      background-color: #3B4455;\n",
              "      fill: #D2E3FC;\n",
              "    }\n",
              "\n",
              "    [theme=dark] .colab-df-convert:hover {\n",
              "      background-color: #434B5C;\n",
              "      box-shadow: 0px 1px 3px 1px rgba(0, 0, 0, 0.15);\n",
              "      filter: drop-shadow(0px 1px 2px rgba(0, 0, 0, 0.3));\n",
              "      fill: #FFFFFF;\n",
              "    }\n",
              "  </style>\n",
              "\n",
              "      <script>\n",
              "        const buttonEl =\n",
              "          document.querySelector('#df-94122bc3-b085-4025-99c8-38a39a2de2c7 button.colab-df-convert');\n",
              "        buttonEl.style.display =\n",
              "          google.colab.kernel.accessAllowed ? 'block' : 'none';\n",
              "\n",
              "        async function convertToInteractive(key) {\n",
              "          const element = document.querySelector('#df-94122bc3-b085-4025-99c8-38a39a2de2c7');\n",
              "          const dataTable =\n",
              "            await google.colab.kernel.invokeFunction('convertToInteractive',\n",
              "                                                     [key], {});\n",
              "          if (!dataTable) return;\n",
              "\n",
              "          const docLinkHtml = 'Like what you see? Visit the ' +\n",
              "            '<a target=\"_blank\" href=https://colab.research.google.com/notebooks/data_table.ipynb>data table notebook</a>'\n",
              "            + ' to learn more about interactive tables.';\n",
              "          element.innerHTML = '';\n",
              "          dataTable['output_type'] = 'display_data';\n",
              "          await google.colab.output.renderOutput(dataTable, element);\n",
              "          const docLink = document.createElement('div');\n",
              "          docLink.innerHTML = docLinkHtml;\n",
              "          element.appendChild(docLink);\n",
              "        }\n",
              "      </script>\n",
              "    </div>\n",
              "  </div>\n",
              "  "
            ]
          },
          "metadata": {},
          "execution_count": 166
        }
      ]
    },
    {
      "cell_type": "code",
      "source": [
        "100 * np.var(digit) / sum(np.var(digit))"
      ],
      "metadata": {
        "colab": {
          "base_uri": "https://localhost:8080/"
        },
        "id": "gGOronZQHKDt",
        "outputId": "1e6db2e3-7296-47a8-e324-b1990ee1a58e"
      },
      "execution_count": null,
      "outputs": [
        {
          "output_type": "stream",
          "name": "stderr",
          "text": [
            "/usr/local/lib/python3.8/dist-packages/numpy/core/_methods.py:48: ComplexWarning:\n",
            "\n",
            "Casting complex values to real discards the imaginary part\n",
            "\n"
          ]
        },
        {
          "output_type": "execute_result",
          "data": {
            "text/plain": [
              "0      4.154063\n",
              "1      2.623051\n",
              "2      2.286348\n",
              "3      2.709459\n",
              "4      1.582520\n",
              "         ...   \n",
              "780    0.007064\n",
              "781    0.000000\n",
              "782    0.000000\n",
              "783    0.099737\n",
              "784    0.000000\n",
              "Length: 785, dtype: float64"
            ]
          },
          "metadata": {},
          "execution_count": 167
        }
      ]
    },
    {
      "cell_type": "code",
      "source": [
        "from sklearn.decomposition import PCA\n",
        "pca = PCA( random_state=42)\n",
        "pca"
      ],
      "metadata": {
        "colab": {
          "base_uri": "https://localhost:8080/"
        },
        "id": "Ro97no1PLp_G",
        "outputId": "de3f98d3-855e-4e6a-e4df-2f048405b026"
      },
      "execution_count": null,
      "outputs": [
        {
          "output_type": "execute_result",
          "data": {
            "text/plain": [
              "PCA(random_state=42)"
            ]
          },
          "metadata": {},
          "execution_count": 168
        }
      ]
    },
    {
      "cell_type": "code",
      "source": [
        "pca.fit(df)"
      ],
      "metadata": {
        "colab": {
          "base_uri": "https://localhost:8080/"
        },
        "id": "ihqmruNBL0cu",
        "outputId": "52cf2d58-99b2-4929-e7c9-2c948c9da193"
      },
      "execution_count": null,
      "outputs": [
        {
          "output_type": "execute_result",
          "data": {
            "text/plain": [
              "PCA(random_state=42)"
            ]
          },
          "metadata": {},
          "execution_count": 169
        }
      ]
    },
    {
      "cell_type": "code",
      "source": [
        "p=pca.fit(df)"
      ],
      "metadata": {
        "id": "dw5tY00EO82-"
      },
      "execution_count": null,
      "outputs": []
    },
    {
      "cell_type": "code",
      "source": [
        "pca.components_"
      ],
      "metadata": {
        "colab": {
          "base_uri": "https://localhost:8080/"
        },
        "id": "yYvyZu9dL5RM",
        "outputId": "3240d7a6-61d8-4f38-a0a4-8d32d68ebb43"
      },
      "execution_count": null,
      "outputs": [
        {
          "output_type": "execute_result",
          "data": {
            "text/plain": [
              "array([[-8.02331972e-04,  5.55111512e-17, -1.11022302e-16, ...,\n",
              "        -0.00000000e+00, -0.00000000e+00, -0.00000000e+00],\n",
              "       [ 2.86080795e-03,  1.11022302e-16,  5.55111512e-17, ...,\n",
              "         0.00000000e+00,  0.00000000e+00,  0.00000000e+00],\n",
              "       [-4.99446269e-04,  0.00000000e+00,  2.08166817e-17, ...,\n",
              "         0.00000000e+00,  0.00000000e+00,  0.00000000e+00],\n",
              "       ...,\n",
              "       [ 0.00000000e+00, -1.12853219e-01,  1.66351761e-02, ...,\n",
              "         0.00000000e+00,  0.00000000e+00,  0.00000000e+00],\n",
              "       [ 0.00000000e+00, -2.18630473e-02, -5.55242886e-03, ...,\n",
              "         0.00000000e+00,  0.00000000e+00,  0.00000000e+00],\n",
              "       [ 0.00000000e+00,  6.98476478e-02, -3.47823569e-02, ...,\n",
              "         0.00000000e+00,  0.00000000e+00,  0.00000000e+00]])"
            ]
          },
          "metadata": {},
          "execution_count": 171
        }
      ]
    },
    {
      "cell_type": "code",
      "source": [
        "pca.explained_variance_ratio_[0]"
      ],
      "metadata": {
        "colab": {
          "base_uri": "https://localhost:8080/"
        },
        "id": "_j4G0RhBL-Js",
        "outputId": "953c0bf6-270c-46eb-cbf3-3dc4495aa09c"
      },
      "execution_count": null,
      "outputs": [
        {
          "output_type": "execute_result",
          "data": {
            "text/plain": [
              "0.0974892029123123"
            ]
          },
          "metadata": {},
          "execution_count": 172
        }
      ]
    },
    {
      "cell_type": "code",
      "source": [
        "  "
      ],
      "metadata": {
        "id": "0Rp1737SNdKY"
      },
      "execution_count": null,
      "outputs": []
    },
    {
      "cell_type": "markdown",
      "source": [
        "PCA as dimensionality reduction"
      ],
      "metadata": {
        "id": "jFi5B6zlQn5d"
      }
    },
    {
      "cell_type": "code",
      "source": [
        "pca = PCA(n_components=1)\n",
        "pca.fit(X)\n",
        "X_pca = pca.transform(X)\n",
        "print(\"original shape:   \", X.shape)\n",
        "print(\"transformed shape:\", X_pca.shape)"
      ],
      "metadata": {
        "colab": {
          "base_uri": "https://localhost:8080/"
        },
        "id": "vTo_LrLsQosV",
        "outputId": "1d19a415-4860-47fb-dbc5-6ee860a16166"
      },
      "execution_count": null,
      "outputs": [
        {
          "output_type": "stream",
          "name": "stdout",
          "text": [
            "original shape:    (42000, 784)\n",
            "transformed shape: (42000, 1)\n"
          ]
        }
      ]
    },
    {
      "cell_type": "code",
      "source": [
        "X_new = pca.inverse_transform(X_pca)\n",
        "plt.scatter(X[:, 0], X[:, 1], alpha=0.5)\n",
        "plt.scatter(X_new[:, 0], X_new[:, 1], alpha=0.8)\n",
        "plt.axis('equal');"
      ],
      "metadata": {
        "colab": {
          "base_uri": "https://localhost:8080/",
          "height": 289
        },
        "id": "XhKBnbmFQnGv",
        "outputId": "3c74c700-fdf4-4bd1-a504-f45dca7df2d9"
      },
      "execution_count": null,
      "outputs": [
        {
          "output_type": "display_data",
          "data": {
            "text/plain": [
              "<Figure size 432x288 with 1 Axes>"
            ],
            "image/png": "[encoded data removed]"
          },
          "metadata": {
            "needs_background": "light"
          }
        }
      ]
    },
    {
      "cell_type": "code",
      "source": [
        "pca = PCA(2)  # project from 64 to 2 dimensions\n",
        "projected = pca.fit_transform(df)\n",
        "print(df.shape)\n",
        "print(projected.shape)"
      ],
      "metadata": {
        "colab": {
          "base_uri": "https://localhost:8080/"
        },
        "id": "xaZUwEJOVR3B",
        "outputId": "3f9e974c-0760-4a41-8c15-d89225e9a0b8"
      },
      "execution_count": null,
      "outputs": [
        {
          "output_type": "stream",
          "name": "stdout",
          "text": [
            "(42000, 785)\n",
            "(42000, 2)\n"
          ]
        }
      ]
    },
    {
      "cell_type": "code",
      "source": [
        "import seaborn as sns; sns.set()\n",
        "plt.scatter(projected[:, 0], projected[:, 1],c=target, edgecolor='none', alpha=0.5,cmap=plt.cm.get_cmap('BrBG', 10))\n",
        "plt.xlabel('component 1')\n",
        "plt.ylabel('component 2')\n",
        "plt.colorbar();"
      ],
      "metadata": {
        "colab": {
          "base_uri": "https://localhost:8080/",
          "height": 289
        },
        "id": "tsuijAG9aEpo",
        "outputId": "a959b6ff-0c88-4c86-e185-e234b57bd79d"
      },
      "execution_count": null,
      "outputs": [
        {
          "output_type": "display_data",
          "data": {
            "text/plain": [
              "<Figure size 432x288 with 2 Axes>"
            ],
            "image/png": "[encoded data removed]"
          },
          "metadata": {}
        }
      ]
    }
  ]
}